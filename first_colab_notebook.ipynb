{
  "nbformat": 4,
  "nbformat_minor": 0,
  "metadata": {
    "colab": {
      "name": "first_colab_notebook.ipynb",
      "provenance": [],
      "authorship_tag": "ABX9TyMs7Ws+VdRU3m5vXxpzrbYB",
      "include_colab_link": true
    },
    "kernelspec": {
      "name": "python3",
      "display_name": "Python 3"
    }
  },
  "cells": [
    {
      "cell_type": "markdown",
      "metadata": {
        "id": "view-in-github",
        "colab_type": "text"
      },
      "source": [
        "<a href=\"https://colab.research.google.com/github/dprossi/colab_test/blob/main/first_colab_notebook.ipynb\" target=\"_parent\"><img src=\"https://colab.research.google.com/assets/colab-badge.svg\" alt=\"Open In Colab\"/></a>"
      ]
    },
    {
      "cell_type": "markdown",
      "metadata": {
        "id": "KvYs3NokcaA-"
      },
      "source": [
        "# First Colab notebook"
      ]
    },
    {
      "cell_type": "code",
      "metadata": {
        "id": "_b6a7Fsxceo8"
      },
      "source": [
        "a = 4\n",
        "b = 2"
      ],
      "execution_count": 1,
      "outputs": []
    },
    {
      "cell_type": "code",
      "metadata": {
        "colab": {
          "base_uri": "https://localhost:8080/"
        },
        "id": "uDHGlGutlDFr",
        "outputId": "988fa347-334e-45e9-f69f-ea5d080258a6"
      },
      "source": [
        "a * b"
      ],
      "execution_count": 2,
      "outputs": [
        {
          "output_type": "execute_result",
          "data": {
            "text/plain": [
              "8"
            ]
          },
          "metadata": {
            "tags": []
          },
          "execution_count": 2
        }
      ]
    },
    {
      "cell_type": "markdown",
      "metadata": {
        "id": "YdSgqNf-lrEX"
      },
      "source": [
        "This is a link:\n",
        "[Colaboratory](https://research.google.com/colaboratory)"
      ]
    },
    {
      "cell_type": "code",
      "metadata": {
        "id": "Rgn1hQeLmWTz"
      },
      "source": [
        ""
      ],
      "execution_count": null,
      "outputs": []
    }
  ]
}