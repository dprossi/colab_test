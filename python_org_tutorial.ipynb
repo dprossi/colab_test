{
  "nbformat": 4,
  "nbformat_minor": 0,
  "metadata": {
    "colab": {
      "name": "python_org_tutorial.ipynb",
      "provenance": [],
      "authorship_tag": "ABX9TyMAlJUKrLMFsoC6ipwjjd9u",
      "include_colab_link": true
    },
    "kernelspec": {
      "name": "python3",
      "display_name": "Python 3"
    }
  },
  "cells": [
    {
      "cell_type": "markdown",
      "metadata": {
        "id": "view-in-github",
        "colab_type": "text"
      },
      "source": [
        "<a href=\"https://colab.research.google.com/github/dprossi/colab_test/blob/main/python_org_tutorial.ipynb\" target=\"_parent\"><img src=\"https://colab.research.google.com/assets/colab-badge.svg\" alt=\"Open In Colab\"/></a>"
      ]
    },
    {
      "cell_type": "markdown",
      "metadata": {
        "id": "_x6KOIWDsZU1"
      },
      "source": [
        "# Python.org Tutorial\n"
      ]
    },
    {
      "cell_type": "markdown",
      "metadata": {
        "id": "f3emq6hgsgJm"
      },
      "source": [
        "[Tutorial](https://www.learnpython.org/en/Welcome)  \n",
        "The built in ipython shell was not working on the webpage of the tutorial, so it is caried out in this colab notebook instead."
      ]
    },
    {
      "cell_type": "markdown",
      "metadata": {
        "id": "YaS7LGd6eo3w"
      },
      "source": [
        "# Hello, World!"
      ]
    },
    {
      "cell_type": "code",
      "metadata": {
        "colab": {
          "base_uri": "https://localhost:8080/"
        },
        "id": "2c68j3Apu27D",
        "outputId": "4f5bc632-d87e-4f31-bcea-01b1a2c6294b"
      },
      "source": [
        "print(\"This line will be printed.\")"
      ],
      "execution_count": 1,
      "outputs": [
        {
          "output_type": "stream",
          "text": [
            "This line will be printed.\n"
          ],
          "name": "stdout"
        }
      ]
    },
    {
      "cell_type": "code",
      "metadata": {
        "colab": {
          "base_uri": "https://localhost:8080/"
        },
        "id": "0djkTDf2es0P",
        "outputId": "6c1fcdc6-918e-4d63-c9c3-407867d68a5f"
      },
      "source": [
        "# Indentation\n",
        "x = 1\n",
        "if x == 1:\n",
        "    # indented four spaces\n",
        "    print(\"x is 1.\")"
      ],
      "execution_count": 3,
      "outputs": [
        {
          "output_type": "stream",
          "text": [
            "x is 1.\n"
          ],
          "name": "stdout"
        }
      ]
    },
    {
      "cell_type": "markdown",
      "metadata": {
        "id": "66Pr6GQGe9ZG"
      },
      "source": [
        "# Variables and Types"
      ]
    },
    {
      "cell_type": "code",
      "metadata": {
        "colab": {
          "base_uri": "https://localhost:8080/"
        },
        "id": "v5APoAXbe4JS",
        "outputId": "90fe468e-b91c-485d-9fa0-c5e8c70870e1"
      },
      "source": [
        "# Numbers\n",
        "myint = 7\n",
        "print(myint)"
      ],
      "execution_count": 4,
      "outputs": [
        {
          "output_type": "stream",
          "text": [
            "7\n"
          ],
          "name": "stdout"
        }
      ]
    },
    {
      "cell_type": "code",
      "metadata": {
        "colab": {
          "base_uri": "https://localhost:8080/"
        },
        "id": "4KPZQP1gmrs_",
        "outputId": "a236213e-580a-4b9b-e491-81cbc8b014ad"
      },
      "source": [
        "myfloat = 7.0\n",
        "print(myfloat)\n",
        "myfloat = float(7)\n",
        "print(myfloat)"
      ],
      "execution_count": 5,
      "outputs": [
        {
          "output_type": "stream",
          "text": [
            "7.0\n",
            "7.0\n"
          ],
          "name": "stdout"
        }
      ]
    },
    {
      "cell_type": "code",
      "metadata": {
        "colab": {
          "base_uri": "https://localhost:8080/"
        },
        "id": "tJTrTTqNmxyI",
        "outputId": "1a98555f-9419-411d-9527-6f7e7daec479"
      },
      "source": [
        "# Strings\n",
        "mystring = 'hello'\n",
        "print(mystring)\n",
        "mystring = \"hello\"\n",
        "print(mystring)"
      ],
      "execution_count": 7,
      "outputs": [
        {
          "output_type": "stream",
          "text": [
            "hello\n",
            "hello\n"
          ],
          "name": "stdout"
        }
      ]
    },
    {
      "cell_type": "code",
      "metadata": {
        "colab": {
          "base_uri": "https://localhost:8080/"
        },
        "id": "dSricYOYm6hP",
        "outputId": "e0cec244-c0ce-4a0f-9239-1b5d76439bf0"
      },
      "source": [
        "mystring = \"Don't worry about apostrophes\"\n",
        "print(mystring)"
      ],
      "execution_count": 8,
      "outputs": [
        {
          "output_type": "stream",
          "text": [
            "Don't worry about apostrophes\n"
          ],
          "name": "stdout"
        }
      ]
    },
    {
      "cell_type": "code",
      "metadata": {
        "colab": {
          "base_uri": "https://localhost:8080/"
        },
        "id": "ekE9H2drm_kQ",
        "outputId": "45242fb9-daa1-4a40-eefe-d8780d6d20a4"
      },
      "source": [
        "one = 1\n",
        "two = 2\n",
        "three = one + two\n",
        "print(three)\n",
        "\n",
        "hello = \"hello\"\n",
        "world = \"world\"\n",
        "helloworld = hello + \" \" + world\n",
        "print(helloworld)"
      ],
      "execution_count": 9,
      "outputs": [
        {
          "output_type": "stream",
          "text": [
            "3\n",
            "hello world\n"
          ],
          "name": "stdout"
        }
      ]
    },
    {
      "cell_type": "code",
      "metadata": {
        "colab": {
          "base_uri": "https://localhost:8080/"
        },
        "id": "1zfKX011nHlb",
        "outputId": "19f494d5-0af5-480d-85fe-3d34c1f8527d"
      },
      "source": [
        "a, b = 3, 4\n",
        "print(a,b)"
      ],
      "execution_count": 10,
      "outputs": [
        {
          "output_type": "stream",
          "text": [
            "3 4\n"
          ],
          "name": "stdout"
        }
      ]
    },
    {
      "cell_type": "code",
      "metadata": {
        "colab": {
          "base_uri": "https://localhost:8080/",
          "height": 232
        },
        "id": "H6LFjY0YnNWA",
        "outputId": "3f7713e2-5f9d-4b21-89f9-d50530bd9cfe"
      },
      "source": [
        "# This will not work!\n",
        "one = 1\n",
        "two = 2\n",
        "hello = \"hello\"\n",
        "\n",
        "print(one + two + hello)"
      ],
      "execution_count": 11,
      "outputs": [
        {
          "output_type": "error",
          "ename": "TypeError",
          "evalue": "ignored",
          "traceback": [
            "\u001b[0;31m---------------------------------------------------------------------------\u001b[0m",
            "\u001b[0;31mTypeError\u001b[0m                                 Traceback (most recent call last)",
            "\u001b[0;32m<ipython-input-11-fa035bb013ee>\u001b[0m in \u001b[0;36m<module>\u001b[0;34m()\u001b[0m\n\u001b[1;32m      4\u001b[0m \u001b[0mhello\u001b[0m \u001b[0;34m=\u001b[0m \u001b[0;34m\"hello\"\u001b[0m\u001b[0;34m\u001b[0m\u001b[0;34m\u001b[0m\u001b[0m\n\u001b[1;32m      5\u001b[0m \u001b[0;34m\u001b[0m\u001b[0m\n\u001b[0;32m----> 6\u001b[0;31m \u001b[0mprint\u001b[0m\u001b[0;34m(\u001b[0m\u001b[0mone\u001b[0m \u001b[0;34m+\u001b[0m \u001b[0mtwo\u001b[0m \u001b[0;34m+\u001b[0m \u001b[0mhello\u001b[0m\u001b[0;34m)\u001b[0m\u001b[0;34m\u001b[0m\u001b[0;34m\u001b[0m\u001b[0m\n\u001b[0m",
            "\u001b[0;31mTypeError\u001b[0m: unsupported operand type(s) for +: 'int' and 'str'"
          ]
        }
      ]
    },
    {
      "cell_type": "code",
      "metadata": {
        "colab": {
          "base_uri": "https://localhost:8080/"
        },
        "id": "jL9lWq3gnRql",
        "outputId": "ab4042d2-c774-4649-f031-e2e08ada23fa"
      },
      "source": [
        "# Exercise\n",
        "# change this code\n",
        "mystring = \"hello\"\n",
        "myfloat = 10.0\n",
        "myint = 20\n",
        "\n",
        "# testing code\n",
        "if mystring == \"hello\":\n",
        "    print(\"String: %s\" % mystring)\n",
        "if isinstance(myfloat, float) and myfloat == 10.0:\n",
        "    print(\"Float: %f\" % myfloat)\n",
        "if isinstance(myint, int) and myint == 20:\n",
        "    print(\"Integer: %d\" % myint)"
      ],
      "execution_count": 12,
      "outputs": [
        {
          "output_type": "stream",
          "text": [
            "String: hello\n",
            "Float: 10.000000\n",
            "Integer: 20\n"
          ],
          "name": "stdout"
        }
      ]
    },
    {
      "cell_type": "code",
      "metadata": {
        "id": "sm3vX8FhnfDp"
      },
      "source": [
        ""
      ],
      "execution_count": null,
      "outputs": []
    },
    {
      "cell_type": "markdown",
      "metadata": {
        "id": "tRF5Ja72njgB"
      },
      "source": [
        "# Lists"
      ]
    },
    {
      "cell_type": "code",
      "metadata": {
        "colab": {
          "base_uri": "https://localhost:8080/"
        },
        "id": "buS0XNJ9no2S",
        "outputId": "81937a41-b5a5-4ffa-d5c5-32a4a35d0879"
      },
      "source": [
        "mylist = []\n",
        "mylist.append(1)\n",
        "mylist.append(2)\n",
        "mylist.append(3)\n",
        "print(mylist[0]) # prints 1\n",
        "print(mylist[1]) # prints 2\n",
        "print(mylist[2]) # prints 3\n",
        "\n",
        "# prints out 1,2,3\n",
        "for x in mylist:\n",
        "    print(x)\n",
        "\n",
        "print(mylist)"
      ],
      "execution_count": 14,
      "outputs": [
        {
          "output_type": "stream",
          "text": [
            "1\n",
            "2\n",
            "3\n",
            "1\n",
            "2\n",
            "3\n",
            "[1, 2, 3]\n"
          ],
          "name": "stdout"
        }
      ]
    },
    {
      "cell_type": "code",
      "metadata": {
        "colab": {
          "base_uri": "https://localhost:8080/",
          "height": 232
        },
        "id": "hWQ1SJOlnxlw",
        "outputId": "f1a8dc0c-f5b8-4f1e-fd1f-31ec56dcfe5a"
      },
      "source": [
        "# index does not exist\n",
        "mylist = [1,2,3]\n",
        "print(mylist[10])"
      ],
      "execution_count": 15,
      "outputs": [
        {
          "output_type": "error",
          "ename": "IndexError",
          "evalue": "ignored",
          "traceback": [
            "\u001b[0;31m---------------------------------------------------------------------------\u001b[0m",
            "\u001b[0;31mIndexError\u001b[0m                                Traceback (most recent call last)",
            "\u001b[0;32m<ipython-input-15-b29587b2eb21>\u001b[0m in \u001b[0;36m<module>\u001b[0;34m()\u001b[0m\n\u001b[1;32m      1\u001b[0m \u001b[0;31m# index does not exist\u001b[0m\u001b[0;34m\u001b[0m\u001b[0;34m\u001b[0m\u001b[0;34m\u001b[0m\u001b[0m\n\u001b[1;32m      2\u001b[0m \u001b[0mmylist\u001b[0m \u001b[0;34m=\u001b[0m \u001b[0;34m[\u001b[0m\u001b[0;36m1\u001b[0m\u001b[0;34m,\u001b[0m\u001b[0;36m2\u001b[0m\u001b[0;34m,\u001b[0m\u001b[0;36m3\u001b[0m\u001b[0;34m]\u001b[0m\u001b[0;34m\u001b[0m\u001b[0;34m\u001b[0m\u001b[0m\n\u001b[0;32m----> 3\u001b[0;31m \u001b[0mprint\u001b[0m\u001b[0;34m(\u001b[0m\u001b[0mmylist\u001b[0m\u001b[0;34m[\u001b[0m\u001b[0;36m10\u001b[0m\u001b[0;34m]\u001b[0m\u001b[0;34m)\u001b[0m\u001b[0;34m\u001b[0m\u001b[0;34m\u001b[0m\u001b[0m\n\u001b[0m",
            "\u001b[0;31mIndexError\u001b[0m: list index out of range"
          ]
        }
      ]
    },
    {
      "cell_type": "code",
      "metadata": {
        "colab": {
          "base_uri": "https://localhost:8080/"
        },
        "id": "hcQmYBAyn_iA",
        "outputId": "29a8dc30-08db-494d-c606-b1a6fc1a158f"
      },
      "source": [
        "# Exercise\n",
        "numbers = []\n",
        "strings = []\n",
        "names = [\"John\", \"Eric\", \"Jessica\"]\n",
        "\n",
        "# write your code here\n",
        "numbers.append(1)\n",
        "numbers.append(2)\n",
        "numbers.append(3)\n",
        "\n",
        "strings.append('hello')\n",
        "strings.append('world')\n",
        "\n",
        "second_name = names[1]\n",
        "\n",
        "# this code should write out the filled arrays and the second name in the names list (Eric).\n",
        "print(numbers)\n",
        "print(strings)\n",
        "print(\"The second name on the names list is %s\" % second_name)"
      ],
      "execution_count": 24,
      "outputs": [
        {
          "output_type": "stream",
          "text": [
            "[1, 2, 3]\n",
            "['hello', 'world']\n",
            "The second name on the names list is Eric\n"
          ],
          "name": "stdout"
        }
      ]
    },
    {
      "cell_type": "markdown",
      "metadata": {
        "id": "pZZ8PxEOpTZs"
      },
      "source": [
        "# Basic Operators"
      ]
    },
    {
      "cell_type": "code",
      "metadata": {
        "colab": {
          "base_uri": "https://localhost:8080/"
        },
        "id": "JHH1T10ao9uB",
        "outputId": "b2cd5b33-8b15-4c92-93a4-e15a50336d73"
      },
      "source": [
        "# Arithmetic Operators\n",
        "number = 1 + 2 * 3 / 4.0\n",
        "print(number)"
      ],
      "execution_count": 25,
      "outputs": [
        {
          "output_type": "stream",
          "text": [
            "2.5\n"
          ],
          "name": "stdout"
        }
      ]
    },
    {
      "cell_type": "code",
      "metadata": {
        "colab": {
          "base_uri": "https://localhost:8080/"
        },
        "id": "7NlA_I9cps-8",
        "outputId": "1b97e8e0-ac12-4aed-9844-a5259c052787"
      },
      "source": [
        "# Modulo\n",
        "remainder = 11 % 3\n",
        "print(remainder)"
      ],
      "execution_count": 27,
      "outputs": [
        {
          "output_type": "stream",
          "text": [
            "2\n"
          ],
          "name": "stdout"
        }
      ]
    },
    {
      "cell_type": "code",
      "metadata": {
        "colab": {
          "base_uri": "https://localhost:8080/"
        },
        "id": "zPSBW4ldp2wS",
        "outputId": "0791fbfb-b577-45a8-dc14-a0f061417b94"
      },
      "source": [
        "# Power\n",
        "squared = 7 ** 2\n",
        "cubed = 2 ** 3\n",
        "print(squared)\n",
        "print(cubed)"
      ],
      "execution_count": 29,
      "outputs": [
        {
          "output_type": "stream",
          "text": [
            "49\n",
            "8\n"
          ],
          "name": "stdout"
        }
      ]
    },
    {
      "cell_type": "code",
      "metadata": {
        "colab": {
          "base_uri": "https://localhost:8080/"
        },
        "id": "wbWhErBep_XR",
        "outputId": "9d4b148e-c555-4a6c-cecf-bddef7c382e7"
      },
      "source": [
        "# Operators with Strings\n",
        "helloworld = \"hello\" + \" \" + \"world\"\n",
        "print(helloworld)"
      ],
      "execution_count": 30,
      "outputs": [
        {
          "output_type": "stream",
          "text": [
            "hello world\n"
          ],
          "name": "stdout"
        }
      ]
    },
    {
      "cell_type": "code",
      "metadata": {
        "colab": {
          "base_uri": "https://localhost:8080/"
        },
        "id": "zqIiC9vRqJbx",
        "outputId": "5547d164-374d-4973-abe9-056a183eb6fc"
      },
      "source": [
        "lotsofhellos = \"hello\" * 10\n",
        "print(lotsofhellos)"
      ],
      "execution_count": 31,
      "outputs": [
        {
          "output_type": "stream",
          "text": [
            "hellohellohellohellohellohellohellohellohellohello\n"
          ],
          "name": "stdout"
        }
      ]
    },
    {
      "cell_type": "code",
      "metadata": {
        "colab": {
          "base_uri": "https://localhost:8080/"
        },
        "id": "CBgabJahqN__",
        "outputId": "fe175764-398e-4e95-e3bd-865c908c1a49"
      },
      "source": [
        "# Operators with Lists\n",
        "even_numbers = [2,4,6,8]\n",
        "odd_numbers = [1,3,5,7]\n",
        "all_numbers = odd_numbers + even_numbers\n",
        "print(all_numbers)"
      ],
      "execution_count": 32,
      "outputs": [
        {
          "output_type": "stream",
          "text": [
            "[1, 3, 5, 7, 2, 4, 6, 8]\n"
          ],
          "name": "stdout"
        }
      ]
    },
    {
      "cell_type": "code",
      "metadata": {
        "colab": {
          "base_uri": "https://localhost:8080/"
        },
        "id": "Q7ZdZBx4qeVu",
        "outputId": "a5af4068-c20a-46f7-8d53-4480f6ea1407"
      },
      "source": [
        "print([1,2,3] * 3)"
      ],
      "execution_count": 33,
      "outputs": [
        {
          "output_type": "stream",
          "text": [
            "[1, 2, 3, 1, 2, 3, 1, 2, 3]\n"
          ],
          "name": "stdout"
        }
      ]
    },
    {
      "cell_type": "code",
      "metadata": {
        "colab": {
          "base_uri": "https://localhost:8080/"
        },
        "id": "taIlHDMjqjtW",
        "outputId": "6609d9ea-313b-49e3-f4c8-799199861c31"
      },
      "source": [
        "# Exercise\n",
        "x = object()\n",
        "y = object()\n",
        "\n",
        "# TODO: change this code\n",
        "x_list = [x] * 10\n",
        "y_list = [y] * 10\n",
        "big_list = x_list + y_list\n",
        "\n",
        "print(\"x_list contains %d objects\" % len(x_list))\n",
        "print(\"y_list contains %d objects\" % len(y_list))\n",
        "print(\"big_list contains %d objects\" % len(big_list))\n",
        "\n",
        "# testing code\n",
        "if x_list.count(x) == 10 and y_list.count(y) == 10:\n",
        "    print(\"Almost there...\")\n",
        "if big_list.count(x) == 10 and big_list.count(y) == 10:\n",
        "    print(\"Great!\")"
      ],
      "execution_count": 48,
      "outputs": [
        {
          "output_type": "stream",
          "text": [
            "x_list contains 10 objects\n",
            "y_list contains 10 objects\n",
            "big_list contains 20 objects\n",
            "Almost there...\n",
            "Great!\n"
          ],
          "name": "stdout"
        }
      ]
    },
    {
      "cell_type": "markdown",
      "metadata": {
        "id": "V-C8eAmVsUG9"
      },
      "source": [
        "# String Formatting"
      ]
    },
    {
      "cell_type": "code",
      "metadata": {
        "colab": {
          "base_uri": "https://localhost:8080/"
        },
        "id": "DRY8gdAbsWLc",
        "outputId": "61b3b494-59e7-4fe8-9525-9f1ba1760c4b"
      },
      "source": [
        "# This prints out \"Hello, John!\"\n",
        "name = \"John\"\n",
        "print(\"Hello, %s!\" % name)"
      ],
      "execution_count": 1,
      "outputs": [
        {
          "output_type": "stream",
          "text": [
            "Hello, John!\n"
          ],
          "name": "stdout"
        }
      ]
    },
    {
      "cell_type": "code",
      "metadata": {
        "colab": {
          "base_uri": "https://localhost:8080/"
        },
        "id": "wN8yrRKiD4Yi",
        "outputId": "6351b542-9f47-45d8-90de-d4aef43e2f92"
      },
      "source": [
        "# This prints out \"John is 23 years old.\"\n",
        "name = \"John\"\n",
        "age = 23\n",
        "print(\"%s is %d years old.\" % (name, age))"
      ],
      "execution_count": 2,
      "outputs": [
        {
          "output_type": "stream",
          "text": [
            "John is 23 years old.\n"
          ],
          "name": "stdout"
        }
      ]
    },
    {
      "cell_type": "code",
      "metadata": {
        "colab": {
          "base_uri": "https://localhost:8080/"
        },
        "id": "BXKxnmzWEaMg",
        "outputId": "b8664274-2792-4f0c-e827-a91107c848cf"
      },
      "source": [
        "# This prints out: A list: [1, 2, 3]\n",
        "mylist = [1,2,3]\n",
        "print(\"A list: %s\" % mylist)"
      ],
      "execution_count": 3,
      "outputs": [
        {
          "output_type": "stream",
          "text": [
            "A list: [1, 2, 3]\n"
          ],
          "name": "stdout"
        }
      ]
    },
    {
      "cell_type": "code",
      "metadata": {
        "colab": {
          "base_uri": "https://localhost:8080/"
        },
        "id": "Ao1fp0N7EkYa",
        "outputId": "192459c0-128e-4fe0-b492-4dcfcf402746"
      },
      "source": [
        "data = (\"John\", \"Doe\", 53.44)\n",
        "format_string = \"Hello\"\n",
        "\n",
        "print(format_string + \" %s %s. Your current balance is $%s.\" % (data[0], data[1], data[2]))"
      ],
      "execution_count": 12,
      "outputs": [
        {
          "output_type": "stream",
          "text": [
            "Hello John Doe. Your current balance is $53.44.\n"
          ],
          "name": "stdout"
        }
      ]
    },
    {
      "cell_type": "markdown",
      "metadata": {
        "id": "G2wx566pF3X8"
      },
      "source": [
        "# Basic String Operations"
      ]
    },
    {
      "cell_type": "code",
      "metadata": {
        "id": "YeThU1_ZE08w"
      },
      "source": [
        "astring = \"Hello world!\"\n",
        "astring2 = 'Hello world!'"
      ],
      "execution_count": 14,
      "outputs": []
    },
    {
      "cell_type": "code",
      "metadata": {
        "colab": {
          "base_uri": "https://localhost:8080/"
        },
        "id": "zsS6LxExGgGw",
        "outputId": "15fa5679-092a-4214-a83f-f68353e3933a"
      },
      "source": [
        "astring = \"Hello world!\"\n",
        "print(\"single quotes are ' '\")\n",
        "\n",
        "print(len(astring))"
      ],
      "execution_count": 15,
      "outputs": [
        {
          "output_type": "stream",
          "text": [
            "single quotes are ' '\n",
            "12\n"
          ],
          "name": "stdout"
        }
      ]
    },
    {
      "cell_type": "code",
      "metadata": {
        "colab": {
          "base_uri": "https://localhost:8080/"
        },
        "id": "HLmQVyh5Gi1F",
        "outputId": "1c3023ab-3924-46b0-ab0d-cc1c5cc97384"
      },
      "source": [
        "astring = \"Hello world!\"\n",
        "print(astring.index(\"o\"))"
      ],
      "execution_count": 16,
      "outputs": [
        {
          "output_type": "stream",
          "text": [
            "4\n"
          ],
          "name": "stdout"
        }
      ]
    },
    {
      "cell_type": "code",
      "metadata": {
        "colab": {
          "base_uri": "https://localhost:8080/"
        },
        "id": "woXu8FDOGqwZ",
        "outputId": "a11f3254-aab3-44ac-bf5b-e0c20dcae765"
      },
      "source": [
        "astring = \"Hello world!\"\n",
        "print(astring.count(\"l\"))"
      ],
      "execution_count": 17,
      "outputs": [
        {
          "output_type": "stream",
          "text": [
            "3\n"
          ],
          "name": "stdout"
        }
      ]
    },
    {
      "cell_type": "code",
      "metadata": {
        "colab": {
          "base_uri": "https://localhost:8080/"
        },
        "id": "5YCiHhdNGzIm",
        "outputId": "fb5d7938-e234-4c39-d31f-4acbf3a480ba"
      },
      "source": [
        "astring = \"Hello world!\"\n",
        "print(astring[3:7])"
      ],
      "execution_count": 18,
      "outputs": [
        {
          "output_type": "stream",
          "text": [
            "lo w\n"
          ],
          "name": "stdout"
        }
      ]
    },
    {
      "cell_type": "code",
      "metadata": {
        "colab": {
          "base_uri": "https://localhost:8080/"
        },
        "id": "ZWKxGtwIG62Z",
        "outputId": "fa15b157-6661-438d-ca8c-4b67b4469ceb"
      },
      "source": [
        "astring = \"Hello world!\"\n",
        "print(astring[3:7:2])"
      ],
      "execution_count": 19,
      "outputs": [
        {
          "output_type": "stream",
          "text": [
            "l \n"
          ],
          "name": "stdout"
        }
      ]
    },
    {
      "cell_type": "code",
      "metadata": {
        "colab": {
          "base_uri": "https://localhost:8080/"
        },
        "id": "bZHq1xq1HOxQ",
        "outputId": "81290a06-3aac-4fc4-b2ed-224e68fae12d"
      },
      "source": [
        "astring = \"Hello world!\"\n",
        "print(astring[3:7])\n",
        "print(astring[3:7:1])"
      ],
      "execution_count": 20,
      "outputs": [
        {
          "output_type": "stream",
          "text": [
            "lo w\n",
            "lo w\n"
          ],
          "name": "stdout"
        }
      ]
    },
    {
      "cell_type": "code",
      "metadata": {
        "colab": {
          "base_uri": "https://localhost:8080/"
        },
        "id": "mM8B4yoDHXjZ",
        "outputId": "d124bb04-0fe5-41fb-bbfb-821c14f3b676"
      },
      "source": [
        "# reverse a string\n",
        "astring = \"Hello world!\"\n",
        "print(astring[::-1])"
      ],
      "execution_count": 22,
      "outputs": [
        {
          "output_type": "stream",
          "text": [
            "!dlrow olleH\n"
          ],
          "name": "stdout"
        }
      ]
    },
    {
      "cell_type": "code",
      "metadata": {
        "colab": {
          "base_uri": "https://localhost:8080/"
        },
        "id": "N_-v60uqHdcx",
        "outputId": "14bdd52d-462d-4c51-9d2b-847ebd21f6fb"
      },
      "source": [
        "astring = \"Hello world!\"\n",
        "print(astring.upper())\n",
        "print(astring.lower())"
      ],
      "execution_count": 23,
      "outputs": [
        {
          "output_type": "stream",
          "text": [
            "HELLO WORLD!\n",
            "hello world!\n"
          ],
          "name": "stdout"
        }
      ]
    },
    {
      "cell_type": "code",
      "metadata": {
        "colab": {
          "base_uri": "https://localhost:8080/"
        },
        "id": "nNgl6toBHjHA",
        "outputId": "e40ee145-38fd-4385-b353-e38f1489aa6d"
      },
      "source": [
        "astring = \"Hello world!\"\n",
        "print(astring.startswith(\"Hello\"))\n",
        "print(astring.endswith(\"asdfasdfasdf\"))"
      ],
      "execution_count": 24,
      "outputs": [
        {
          "output_type": "stream",
          "text": [
            "True\n",
            "False\n"
          ],
          "name": "stdout"
        }
      ]
    },
    {
      "cell_type": "code",
      "metadata": {
        "colab": {
          "base_uri": "https://localhost:8080/"
        },
        "id": "An2L6Y-QHmjf",
        "outputId": "b4fe15e3-ceb7-492c-a629-e11ba8780917"
      },
      "source": [
        "astring = \"Hello world!\"\n",
        "afewwords = astring.split(\" \")\n",
        "print(afewwords)"
      ],
      "execution_count": 26,
      "outputs": [
        {
          "output_type": "stream",
          "text": [
            "['Hello', 'world!']\n"
          ],
          "name": "stdout"
        }
      ]
    },
    {
      "cell_type": "code",
      "metadata": {
        "colab": {
          "base_uri": "https://localhost:8080/"
        },
        "id": "cDeM7kJkHumT",
        "outputId": "e7ab9df4-a38d-4c8f-81e6-6381e5eb188c"
      },
      "source": [
        "# Exercise\n",
        "s = \"Strings are awesome!\"\n",
        "# Length should be 20\n",
        "print(\"Length of s = %d\" % len(s))\n",
        "\n",
        "# First occurrence of \"a\" should be at index 8\n",
        "print(\"The first occurrence of the letter a = %d\" % s.index(\"a\"))\n",
        "\n",
        "# Number of a's should be 2\n",
        "print(\"a occurs %d times\" % s.count(\"a\"))\n",
        "\n",
        "# Slicing the string into bits\n",
        "print(\"The first five characters are '%s'\" % s[:5]) # Start to 5\n",
        "print(\"The next five characters are '%s'\" % s[5:10]) # 5 to 10\n",
        "print(\"The thirteenth character is '%s'\" % s[12]) # Just number 12\n",
        "print(\"The characters with odd index are '%s'\" %s[1::2]) #(0-based indexing)\n",
        "print(\"The last five characters are '%s'\" % s[-5:]) # 5th-from-last to end\n",
        "\n",
        "# Convert everything to uppercase\n",
        "print(\"String in uppercase: %s\" % s.upper())\n",
        "\n",
        "# Convert everything to lowercase\n",
        "print(\"String in lowercase: %s\" % s.lower())\n",
        "\n",
        "# Check how a string starts\n",
        "if s.startswith(\"Str\"):\n",
        "    print(\"String starts with 'Str'. Good!\")\n",
        "\n",
        "# Check how a string ends\n",
        "if s.endswith(\"ome!\"):\n",
        "    print(\"String ends with 'ome!'. Good!\")\n",
        "\n",
        "# Split the string into three separate strings,\n",
        "# each containing only a word\n",
        "print(\"Split the words of the string: %s\" % s.split(\" \"))"
      ],
      "execution_count": 36,
      "outputs": [
        {
          "output_type": "stream",
          "text": [
            "Length of s = 20\n",
            "The first occurrence of the letter a = 8\n",
            "a occurs 2 times\n",
            "The first five characters are 'Strin'\n",
            "The next five characters are 'gs ar'\n",
            "The thirteenth character is 'a'\n",
            "The characters with odd index are 'tig r wsm!'\n",
            "The last five characters are 'some!'\n",
            "String in uppercase: STRINGS ARE AWESOME!\n",
            "String in lowercase: strings are awesome!\n",
            "String starts with 'Str'. Good!\n",
            "String ends with 'ome!'. Good!\n",
            "Split the words of the string: ['Strings', 'are', 'awesome!']\n"
          ],
          "name": "stdout"
        }
      ]
    },
    {
      "cell_type": "code",
      "metadata": {
        "id": "ER5SHzxaH_rm"
      },
      "source": [
        ""
      ],
      "execution_count": null,
      "outputs": []
    },
    {
      "cell_type": "markdown",
      "metadata": {
        "id": "suWofypfJOHf"
      },
      "source": [
        "# Conditions"
      ]
    },
    {
      "cell_type": "code",
      "metadata": {
        "colab": {
          "base_uri": "https://localhost:8080/"
        },
        "id": "ekfHSUApJSEk",
        "outputId": "0f9e3efa-3ee2-45ed-c635-5ab7c990232c"
      },
      "source": [
        "x = 2\n",
        "print(x == 2) # prints out True\n",
        "print(x == 3) # prints out False\n",
        "print(x < 3) # prints out True"
      ],
      "execution_count": 37,
      "outputs": [
        {
          "output_type": "stream",
          "text": [
            "True\n",
            "False\n",
            "True\n"
          ],
          "name": "stdout"
        }
      ]
    },
    {
      "cell_type": "code",
      "metadata": {
        "colab": {
          "base_uri": "https://localhost:8080/"
        },
        "id": "zgB6lc8gJXzZ",
        "outputId": "d2e39c31-00cd-4b8d-a401-d0fbb8f718c8"
      },
      "source": [
        "# Boolean Operators\n",
        "name = \"John\"\n",
        "age = 23\n",
        "if name == \"John\" and age == 23:\n",
        "    print(\"Your name is John, and you are also 23 years old.\")\n",
        "\n",
        "if name == \"John\" or name == \"Rick\":\n",
        "    print(\"Your name is either John or Rick.\")"
      ],
      "execution_count": 38,
      "outputs": [
        {
          "output_type": "stream",
          "text": [
            "Your name is John, and you are also 23 years old.\n",
            "Your name is either John or Rick.\n"
          ],
          "name": "stdout"
        }
      ]
    },
    {
      "cell_type": "code",
      "metadata": {
        "colab": {
          "base_uri": "https://localhost:8080/"
        },
        "id": "dmqLcJHfJkBq",
        "outputId": "03d2105f-380c-4795-9eaf-769766646dfa"
      },
      "source": [
        "# The \"in\" Operator\n",
        "name = \"John\"\n",
        "if name in [\"John\", \"Rick\"]:\n",
        "    print(\"Your name is either John or Rick.\")"
      ],
      "execution_count": 39,
      "outputs": [
        {
          "output_type": "stream",
          "text": [
            "Your name is either John or Rick.\n"
          ],
          "name": "stdout"
        }
      ]
    },
    {
      "cell_type": "code",
      "metadata": {
        "id": "OOv3eOUWJuMF"
      },
      "source": [
        "statement = False\n",
        "another_statement = True\n",
        "if statement is True:\n",
        "    # do something\n",
        "    pass\n",
        "elif another_statement is True: # else if\n",
        "    # do something else\n",
        "    pass\n",
        "else:\n",
        "    # do another thing\n",
        "    pass"
      ],
      "execution_count": 40,
      "outputs": []
    },
    {
      "cell_type": "code",
      "metadata": {
        "colab": {
          "base_uri": "https://localhost:8080/"
        },
        "id": "ZKmeDtJiJ2VC",
        "outputId": "2c8daa40-9deb-40cb-b30d-9595a2cc10f1"
      },
      "source": [
        "x = 2\n",
        "if x == 2:\n",
        "    print(\"x equals two!\")\n",
        "else:\n",
        "    print(\"x does not equal to two.\")"
      ],
      "execution_count": 41,
      "outputs": [
        {
          "output_type": "stream",
          "text": [
            "x equals two!\n"
          ],
          "name": "stdout"
        }
      ]
    },
    {
      "cell_type": "code",
      "metadata": {
        "colab": {
          "base_uri": "https://localhost:8080/"
        },
        "id": "YV2f1Xq1J8uI",
        "outputId": "0053430e-da16-4a8e-87fd-4b642b613ef2"
      },
      "source": [
        "# The \"is\" Operator\n",
        "x = [1,2,3]\n",
        "y = [1,2,3]\n",
        "print(x == y) # Prints out True\n",
        "print(x is y) # Prints out False"
      ],
      "execution_count": 42,
      "outputs": [
        {
          "output_type": "stream",
          "text": [
            "True\n",
            "False\n"
          ],
          "name": "stdout"
        }
      ]
    },
    {
      "cell_type": "code",
      "metadata": {
        "colab": {
          "base_uri": "https://localhost:8080/"
        },
        "id": "5ibe2_-wKIaJ",
        "outputId": "c8f39821-1c4d-4fee-9f7c-5d3f89b902e8"
      },
      "source": [
        "# The \"not\" Operator\n",
        "print(not False) # Prints out True\n",
        "print((not False) == (False)) # Prints out False"
      ],
      "execution_count": 43,
      "outputs": [
        {
          "output_type": "stream",
          "text": [
            "True\n",
            "False\n"
          ],
          "name": "stdout"
        }
      ]
    },
    {
      "cell_type": "code",
      "metadata": {
        "colab": {
          "base_uri": "https://localhost:8080/"
        },
        "id": "pyZbXOBWKSA2",
        "outputId": "746bb771-d73b-4510-c4d0-f9bd31af4edc"
      },
      "source": [
        "# Exercise\n",
        "# change this code\n",
        "number = 16\n",
        "second_number = 0\n",
        "first_array = [1, 2, 3]\n",
        "second_array = [1,2]\n",
        "\n",
        "if number > 15:\n",
        "    print(\"1\")\n",
        "\n",
        "if first_array:\n",
        "    print(\"2\")\n",
        "\n",
        "if len(second_array) == 2:\n",
        "    print(\"3\")\n",
        "\n",
        "if len(first_array) + len(second_array) == 5:\n",
        "    print(\"4\")\n",
        "\n",
        "if first_array and first_array[0] == 1:\n",
        "    print(\"5\")\n",
        "\n",
        "if not second_number:\n",
        "    print(\"6\")"
      ],
      "execution_count": 49,
      "outputs": [
        {
          "output_type": "stream",
          "text": [
            "1\n",
            "2\n",
            "3\n",
            "4\n",
            "5\n",
            "6\n"
          ],
          "name": "stdout"
        }
      ]
    },
    {
      "cell_type": "markdown",
      "metadata": {
        "id": "Apkx_DlKLKCA"
      },
      "source": [
        "# Loops"
      ]
    },
    {
      "cell_type": "code",
      "metadata": {
        "colab": {
          "base_uri": "https://localhost:8080/"
        },
        "id": "MXEBokSmKfIm",
        "outputId": "a61e4019-49eb-43eb-efdd-662cb0031bb9"
      },
      "source": [
        "# the \"for\" loop\n",
        "primes = [2, 3, 5, 7]\n",
        "for prime in primes:\n",
        "    print(prime)"
      ],
      "execution_count": 50,
      "outputs": [
        {
          "output_type": "stream",
          "text": [
            "2\n",
            "3\n",
            "5\n",
            "7\n"
          ],
          "name": "stdout"
        }
      ]
    },
    {
      "cell_type": "code",
      "metadata": {
        "colab": {
          "base_uri": "https://localhost:8080/"
        },
        "id": "5Az6arEALTE3",
        "outputId": "cde06c80-b822-4cb3-daa9-0eb23d851622"
      },
      "source": [
        "# Prints out the numbers 0,1,2,3,4\n",
        "for x in range(5):\n",
        "    print(x)\n",
        "print()\n",
        "# Prints out 3,4,5\n",
        "for x in range(3, 6):\n",
        "    print(x)\n",
        "print()\n",
        "# Prints out 3,5,7\n",
        "for x in range(3, 8, 2):\n",
        "    print(x)"
      ],
      "execution_count": 53,
      "outputs": [
        {
          "output_type": "stream",
          "text": [
            "0\n",
            "1\n",
            "2\n",
            "3\n",
            "4\n",
            "\n",
            "3\n",
            "4\n",
            "5\n",
            "\n",
            "3\n",
            "5\n",
            "7\n"
          ],
          "name": "stdout"
        }
      ]
    },
    {
      "cell_type": "code",
      "metadata": {
        "colab": {
          "base_uri": "https://localhost:8080/"
        },
        "id": "EBGQOcqXLebv",
        "outputId": "69b29bf5-22bf-40b5-d5ad-8ea7b970f694"
      },
      "source": [
        "# \"while\" loops\n",
        "\n",
        "# Prints out 0,1,2,3,4\n",
        "count = 0\n",
        "while count < 5:\n",
        "    print(count)\n",
        "    count += 1  # This is the same as count = count + 1"
      ],
      "execution_count": 54,
      "outputs": [
        {
          "output_type": "stream",
          "text": [
            "0\n",
            "1\n",
            "2\n",
            "3\n",
            "4\n"
          ],
          "name": "stdout"
        }
      ]
    },
    {
      "cell_type": "code",
      "metadata": {
        "colab": {
          "base_uri": "https://localhost:8080/"
        },
        "id": "452Obqc_LzRR",
        "outputId": "31554f3e-a9ba-4ac2-b337-4894dc3b72e5"
      },
      "source": [
        "# \"break\" and \"continue\" statements\n",
        "\n",
        "# Prints out 0,1,2,3,4\n",
        "count = 0\n",
        "while True:\n",
        "    print(count)\n",
        "    count += 1\n",
        "    if count >= 5:\n",
        "        break\n",
        "print()\n",
        "\n",
        "# Prints out only odd numbers - 1,3,5,7,9\n",
        "for x in range(10):\n",
        "    # Check if x is even\n",
        "    if x % 2 == 0:\n",
        "        continue\n",
        "    print(x)"
      ],
      "execution_count": 58,
      "outputs": [
        {
          "output_type": "stream",
          "text": [
            "0\n",
            "1\n",
            "2\n",
            "3\n",
            "4\n",
            "\n",
            "1\n",
            "3\n",
            "5\n",
            "7\n",
            "9\n"
          ],
          "name": "stdout"
        }
      ]
    },
    {
      "cell_type": "code",
      "metadata": {
        "colab": {
          "base_uri": "https://localhost:8080/"
        },
        "id": "FKg8ks4UL9kl",
        "outputId": "67f56592-a3cd-4af2-a316-303bf30bf63a"
      },
      "source": [
        "# \"else\" in loops\n",
        "\n",
        "# Prints out 0,1,2,3,4 and then it prints \"count value reached 5\"\n",
        "count = 0\n",
        "while(count < 5):\n",
        "    print(count)\n",
        "    count += 1\n",
        "else:\n",
        "    print(\"count value reached %d\" %(count))\n",
        "print()\n",
        "\n",
        "# Prints out 1,2,3,4\n",
        "for i in range(1, 10):\n",
        "    if(i % 5 == 0):\n",
        "        break\n",
        "    print(i)\n",
        "else:\n",
        "    print(\"this is not printed because for loop is terminated because of break but not due to fail in condition\")"
      ],
      "execution_count": 62,
      "outputs": [
        {
          "output_type": "stream",
          "text": [
            "0\n",
            "1\n",
            "2\n",
            "3\n",
            "4\n",
            "count value reached 5\n",
            "\n",
            "1\n",
            "2\n",
            "3\n",
            "4\n"
          ],
          "name": "stdout"
        }
      ]
    },
    {
      "cell_type": "code",
      "metadata": {
        "colab": {
          "base_uri": "https://localhost:8080/"
        },
        "id": "Dwjn4FaEMW1Y",
        "outputId": "d5fe97b6-ec39-4c1a-b09f-cab20c37c7e8"
      },
      "source": [
        "# Exercise\n",
        "numbers = [\n",
        "    951, 402, 984, 651, 360, 69, 408, 319, 601, 485, 980, 507, 725, 547, 544,\n",
        "    615, 83, 165, 141, 501, 263, 617, 865, 575, 219, 390, 984, 592, 236, 105, 942, 941,\n",
        "    386, 462, 47, 418, 907, 344, 236, 375, 823, 566, 597, 978, 328, 615, 953, 345,\n",
        "    399, 162, 758, 219, 918, 237, 412, 566, 826, 248, 866, 950, 626, 949, 687, 217,\n",
        "    815, 67, 104, 58, 512, 24, 892, 894, 767, 553, 81, 379, 843, 831, 445, 742, 717,\n",
        "    958, 609, 842, 451, 688, 753, 854, 685, 93, 857, 440, 380, 126, 721, 328, 753, 470,\n",
        "    743, 527\n",
        "]\n",
        "\n",
        "# your code goes here\n",
        "for number in numbers:\n",
        "    if number == 237:\n",
        "      break\n",
        "    if number % 2 == 1:\n",
        "      continue\n",
        "    print(number)"
      ],
      "execution_count": 66,
      "outputs": [
        {
          "output_type": "stream",
          "text": [
            "402\n",
            "984\n",
            "360\n",
            "408\n",
            "980\n",
            "544\n",
            "390\n",
            "984\n",
            "592\n",
            "236\n",
            "942\n",
            "386\n",
            "462\n",
            "418\n",
            "344\n",
            "236\n",
            "566\n",
            "978\n",
            "328\n",
            "162\n",
            "758\n",
            "918\n"
          ],
          "name": "stdout"
        }
      ]
    },
    {
      "cell_type": "markdown",
      "metadata": {
        "id": "9yiCGRo1OLDt"
      },
      "source": [
        "# Functions"
      ]
    },
    {
      "cell_type": "code",
      "metadata": {
        "id": "_IKtAYtyNIHi"
      },
      "source": [
        "def my_function():\n",
        "    print(\"Hello From My Function!\")"
      ],
      "execution_count": 68,
      "outputs": []
    },
    {
      "cell_type": "code",
      "metadata": {
        "colab": {
          "base_uri": "https://localhost:8080/"
        },
        "id": "vt9RIESIOloA",
        "outputId": "7d549d20-5b17-4c3b-85d7-28bcbfaf4bb1"
      },
      "source": [
        "my_function()"
      ],
      "execution_count": 70,
      "outputs": [
        {
          "output_type": "stream",
          "text": [
            "Hello From My Function!\n"
          ],
          "name": "stdout"
        }
      ]
    },
    {
      "cell_type": "code",
      "metadata": {
        "id": "rVvjxv6dOrqo"
      },
      "source": [
        "def my_function_with_args(username, greeting):\n",
        "    print(\"Hello, %s , From My Function!, I wish you %s\"%(username, greeting))"
      ],
      "execution_count": 71,
      "outputs": []
    },
    {
      "cell_type": "code",
      "metadata": {
        "colab": {
          "base_uri": "https://localhost:8080/"
        },
        "id": "thVhs-1LOvFB",
        "outputId": "28ab04b7-120f-4db0-95a5-2d79bdd96eb4"
      },
      "source": [
        "my_function_with_args(\"Jane\", \"good health!\")"
      ],
      "execution_count": 74,
      "outputs": [
        {
          "output_type": "stream",
          "text": [
            "Hello, Jane , From My Function!, I wish you good health!\n"
          ],
          "name": "stdout"
        }
      ]
    },
    {
      "cell_type": "code",
      "metadata": {
        "id": "sL2t5pt5O4Q_"
      },
      "source": [
        "def sum_two_numbers(a, b):\n",
        "    return a + b"
      ],
      "execution_count": 75,
      "outputs": []
    },
    {
      "cell_type": "code",
      "metadata": {
        "colab": {
          "base_uri": "https://localhost:8080/"
        },
        "id": "Ky30aGrAPAgk",
        "outputId": "be825ff2-9511-4b99-f619-9a63d4c03ac4"
      },
      "source": [
        "sum_two_numbers(2,2)"
      ],
      "execution_count": 76,
      "outputs": [
        {
          "output_type": "execute_result",
          "data": {
            "text/plain": [
              "4"
            ]
          },
          "metadata": {
            "tags": []
          },
          "execution_count": 76
        }
      ]
    },
    {
      "cell_type": "code",
      "metadata": {
        "colab": {
          "base_uri": "https://localhost:8080/"
        },
        "id": "lLRPYtFkPCzC",
        "outputId": "6f577ec1-22e9-4c35-b899-5182d6b8ab0d"
      },
      "source": [
        "# Calling functions\n",
        "# Define our 3 functions\n",
        "def my_function():\n",
        "    print(\"Hello From My Function!\")\n",
        "\n",
        "def my_function_with_args(username, greeting):\n",
        "    print(\"Hello, %s , From My Function!, I wish you %s\"%(username, greeting))\n",
        "\n",
        "def sum_two_numbers(a, b):\n",
        "    return a + b\n",
        "\n",
        "# print(a simple greeting)\n",
        "my_function()\n",
        "\n",
        "#prints - \"Hello, John Doe, From My Function!, I wish you a great year!\"\n",
        "my_function_with_args(\"John Doe\", \"a great year!\")\n",
        "\n",
        "# after this line x will hold the value 3!\n",
        "x = sum_two_numbers(1,2)\n",
        "x\n"
      ],
      "execution_count": 78,
      "outputs": [
        {
          "output_type": "stream",
          "text": [
            "Hello From My Function!\n",
            "Hello, John Doe , From My Function!, I wish you a great year!\n"
          ],
          "name": "stdout"
        },
        {
          "output_type": "execute_result",
          "data": {
            "text/plain": [
              "3"
            ]
          },
          "metadata": {
            "tags": []
          },
          "execution_count": 78
        }
      ]
    },
    {
      "cell_type": "code",
      "metadata": {
        "colab": {
          "base_uri": "https://localhost:8080/"
        },
        "id": "wVRkBKhSPIgi",
        "outputId": "bc2bacca-94ec-4d04-d849-76d9d7376001"
      },
      "source": [
        "# Exercise\n",
        "# Modify this function to return a list of strings as defined above\n",
        "def list_benefits():\n",
        "    return[\"More organized code\", \"More readable code\", \"Easier code reuse\", \"Allowing programmers to share and connect code together\"]\n",
        "\n",
        "# Modify this function to concatenate to each benefit - \" is a benefit of functions!\"\n",
        "def build_sentence(benefit):\n",
        "    return benefit + \" is a benefit of functions!\"\n",
        "\n",
        "def name_the_benefits_of_functions():\n",
        "    list_of_benefits = list_benefits()\n",
        "    for benefit in list_of_benefits:\n",
        "        print(build_sentence(benefit))\n",
        "\n",
        "name_the_benefits_of_functions()"
      ],
      "execution_count": 80,
      "outputs": [
        {
          "output_type": "stream",
          "text": [
            "More organized code is a benefit of functions!\n",
            "More readable code is a benefit of functions!\n",
            "Easier code reuse is a benefit of functions!\n",
            "Allowing programmers to share and connect code together is a benefit of functions!\n"
          ],
          "name": "stdout"
        }
      ]
    },
    {
      "cell_type": "markdown",
      "metadata": {
        "id": "sCYoaDs_P-uS"
      },
      "source": [
        "# Classes and Objects"
      ]
    },
    {
      "cell_type": "code",
      "metadata": {
        "id": "Rk3Nbr4GPqww"
      },
      "source": [
        "class MyClass:\n",
        "    variable = \"blah\"\n",
        "\n",
        "    def function(self):\n",
        "        print(\"This is a message inside the class.\")"
      ],
      "execution_count": 81,
      "outputs": []
    },
    {
      "cell_type": "code",
      "metadata": {
        "id": "chlrYTLIQHhF"
      },
      "source": [
        "class MyClass:\n",
        "    variable = \"blah\"\n",
        "\n",
        "    def function(self):\n",
        "        print(\"This is a message inside the class.\")\n",
        "\n",
        "# assign to object\n",
        "myobjectx = MyClass()"
      ],
      "execution_count": 83,
      "outputs": []
    },
    {
      "cell_type": "code",
      "metadata": {
        "colab": {
          "base_uri": "https://localhost:8080/",
          "height": 37
        },
        "id": "nQC1M8OoQOAG",
        "outputId": "c66e3ac6-f395-4c51-8c76-67b3258b1bbd"
      },
      "source": [
        "class MyClass:\n",
        "    variable = \"blah\"\n",
        "\n",
        "    def function(self):\n",
        "        print(\"This is a message inside the class.\")\n",
        "\n",
        "myobjectx = MyClass()\n",
        "\n",
        "# access variable\n",
        "myobjectx.variable"
      ],
      "execution_count": 84,
      "outputs": [
        {
          "output_type": "execute_result",
          "data": {
            "application/vnd.google.colaboratory.intrinsic+json": {
              "type": "string"
            },
            "text/plain": [
              "'blah'"
            ]
          },
          "metadata": {
            "tags": []
          },
          "execution_count": 84
        }
      ]
    },
    {
      "cell_type": "code",
      "metadata": {
        "colab": {
          "base_uri": "https://localhost:8080/"
        },
        "id": "bVRHvp4lQdNK",
        "outputId": "432eecf0-0555-475e-bd52-bb474aa4f61a"
      },
      "source": [
        "class MyClass:\n",
        "    variable = \"blah\"\n",
        "\n",
        "    def function(self):\n",
        "        print(\"This is a message inside the class.\")\n",
        "\n",
        "myobjectx = MyClass()\n",
        "\n",
        "print(myobjectx.variable)"
      ],
      "execution_count": 85,
      "outputs": [
        {
          "output_type": "stream",
          "text": [
            "blah\n"
          ],
          "name": "stdout"
        }
      ]
    },
    {
      "cell_type": "code",
      "metadata": {
        "colab": {
          "base_uri": "https://localhost:8080/"
        },
        "id": "zmhJHo2MQhUo",
        "outputId": "9cbfc7a1-d862-4198-cf2b-828d1b0e6f2f"
      },
      "source": [
        "class MyClass:\n",
        "    variable = \"blah\"\n",
        "\n",
        "    def function(self):\n",
        "        print(\"This is a message inside the class.\")\n",
        "\n",
        "myobjectx = MyClass()\n",
        "myobjecty = MyClass()\n",
        "\n",
        "myobjecty.variable = \"yackity\"\n",
        "\n",
        "# Then print out both values\n",
        "print(myobjectx.variable)\n",
        "print(myobjecty.variable)"
      ],
      "execution_count": 86,
      "outputs": [
        {
          "output_type": "stream",
          "text": [
            "blah\n",
            "yackity\n"
          ],
          "name": "stdout"
        }
      ]
    },
    {
      "cell_type": "code",
      "metadata": {
        "colab": {
          "base_uri": "https://localhost:8080/"
        },
        "id": "TM10e7VLQvGp",
        "outputId": "3199d5f5-6bcb-4cad-906a-a554517d1b62"
      },
      "source": [
        "# accessing object functions\n",
        "class MyClass:\n",
        "    variable = \"blah\"\n",
        "\n",
        "    def function(self):\n",
        "        print(\"This is a message inside the class.\")\n",
        "\n",
        "myobjectx = MyClass()\n",
        "\n",
        "myobjectx.function()"
      ],
      "execution_count": 87,
      "outputs": [
        {
          "output_type": "stream",
          "text": [
            "This is a message inside the class.\n"
          ],
          "name": "stdout"
        }
      ]
    },
    {
      "cell_type": "code",
      "metadata": {
        "colab": {
          "base_uri": "https://localhost:8080/"
        },
        "id": "AEmBaPU6Q8Zm",
        "outputId": "fe34a496-2747-4780-e65b-0c74c21e520c"
      },
      "source": [
        "# Exercise\n",
        "# define the Vehicle class\n",
        "class Vehicle:\n",
        "    name = \"\"\n",
        "    kind = \"car\"\n",
        "    color = \"\"\n",
        "    value = 100.00\n",
        "    def description(self):\n",
        "        desc_str = \"%s is a %s %s worth $%.2f.\" % (self.name, self.color, self.kind, self.value)\n",
        "        return desc_str\n",
        "# your code goes here\n",
        "car1 = Vehicle()\n",
        "car1.name = \"Fer\"\n",
        "car1.kind = \"convertible\"\n",
        "car1.color = \"red\"\n",
        "car1.value = 60000.00\n",
        "\n",
        "car2 = Vehicle()\n",
        "car2.name = \"Jump\"\n",
        "car2.kind = \"van\"\n",
        "car2.color = \"blue\"\n",
        "car2.value = 10000.00\n",
        "\n",
        "# test code\n",
        "print(car1.description())\n",
        "print(car2.description())"
      ],
      "execution_count": 92,
      "outputs": [
        {
          "output_type": "stream",
          "text": [
            "Fer is a red convertible worth $60000.00.\n",
            "Jump is a blue van worth $10000.00.\n"
          ],
          "name": "stdout"
        }
      ]
    },
    {
      "cell_type": "markdown",
      "metadata": {
        "id": "jSx6KkQgSDEs"
      },
      "source": [
        "# Dictionaries"
      ]
    },
    {
      "cell_type": "code",
      "metadata": {
        "colab": {
          "base_uri": "https://localhost:8080/"
        },
        "id": "ApL1-v74RDiI",
        "outputId": "ea43b3af-5aea-4719-fa4f-59fad7914ccf"
      },
      "source": [
        "phonebook = {}\n",
        "phonebook[\"John\"] = 938477566\n",
        "phonebook[\"Jack\"] = 938377264\n",
        "phonebook[\"Jill\"] = 947662781\n",
        "print(phonebook)"
      ],
      "execution_count": 93,
      "outputs": [
        {
          "output_type": "stream",
          "text": [
            "{'John': 938477566, 'Jack': 938377264, 'Jill': 947662781}\n"
          ],
          "name": "stdout"
        }
      ]
    },
    {
      "cell_type": "code",
      "metadata": {
        "id": "X4cmlNVCSMuy"
      },
      "source": [
        ""
      ],
      "execution_count": null,
      "outputs": []
    }
  ]
}