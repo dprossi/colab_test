{
  "nbformat": 4,
  "nbformat_minor": 0,
  "metadata": {
    "colab": {
      "name": "python_org_tutorial.ipynb",
      "provenance": [],
      "authorship_tag": "ABX9TyOLrogM85B1Djf0yGbk1XAS",
      "include_colab_link": true
    },
    "kernelspec": {
      "name": "python3",
      "display_name": "Python 3"
    }
  },
  "cells": [
    {
      "cell_type": "markdown",
      "metadata": {
        "id": "view-in-github",
        "colab_type": "text"
      },
      "source": [
        "<a href=\"https://colab.research.google.com/github/dprossi/colab_test/blob/main/python_org_tutorial.ipynb\" target=\"_parent\"><img src=\"https://colab.research.google.com/assets/colab-badge.svg\" alt=\"Open In Colab\"/></a>"
      ]
    },
    {
      "cell_type": "markdown",
      "metadata": {
        "id": "_x6KOIWDsZU1"
      },
      "source": [
        "# Python.org Tutorial\n"
      ]
    },
    {
      "cell_type": "markdown",
      "metadata": {
        "id": "f3emq6hgsgJm"
      },
      "source": [
        "[Tutorial](https://www.learnpython.org/en/Welcome)  \n",
        "The built in ipython shell was not working on the webpage of the tutorial, so it is caried out in this colab notebook instead."
      ]
    },
    {
      "cell_type": "markdown",
      "metadata": {
        "id": "YaS7LGd6eo3w"
      },
      "source": [
        "# Hello, World!"
      ]
    },
    {
      "cell_type": "code",
      "metadata": {
        "colab": {
          "base_uri": "https://localhost:8080/"
        },
        "id": "2c68j3Apu27D",
        "outputId": "4f5bc632-d87e-4f31-bcea-01b1a2c6294b"
      },
      "source": [
        "print(\"This line will be printed.\")"
      ],
      "execution_count": 1,
      "outputs": [
        {
          "output_type": "stream",
          "text": [
            "This line will be printed.\n"
          ],
          "name": "stdout"
        }
      ]
    },
    {
      "cell_type": "code",
      "metadata": {
        "colab": {
          "base_uri": "https://localhost:8080/"
        },
        "id": "0djkTDf2es0P",
        "outputId": "6c1fcdc6-918e-4d63-c9c3-407867d68a5f"
      },
      "source": [
        "# Indentation\n",
        "x = 1\n",
        "if x == 1:\n",
        "    # indented four spaces\n",
        "    print(\"x is 1.\")"
      ],
      "execution_count": 3,
      "outputs": [
        {
          "output_type": "stream",
          "text": [
            "x is 1.\n"
          ],
          "name": "stdout"
        }
      ]
    },
    {
      "cell_type": "markdown",
      "metadata": {
        "id": "66Pr6GQGe9ZG"
      },
      "source": [
        "# Variables and Types"
      ]
    },
    {
      "cell_type": "code",
      "metadata": {
        "colab": {
          "base_uri": "https://localhost:8080/"
        },
        "id": "v5APoAXbe4JS",
        "outputId": "90fe468e-b91c-485d-9fa0-c5e8c70870e1"
      },
      "source": [
        "# Numbers\n",
        "myint = 7\n",
        "print(myint)"
      ],
      "execution_count": 4,
      "outputs": [
        {
          "output_type": "stream",
          "text": [
            "7\n"
          ],
          "name": "stdout"
        }
      ]
    },
    {
      "cell_type": "code",
      "metadata": {
        "colab": {
          "base_uri": "https://localhost:8080/"
        },
        "id": "4KPZQP1gmrs_",
        "outputId": "a236213e-580a-4b9b-e491-81cbc8b014ad"
      },
      "source": [
        "myfloat = 7.0\n",
        "print(myfloat)\n",
        "myfloat = float(7)\n",
        "print(myfloat)"
      ],
      "execution_count": 5,
      "outputs": [
        {
          "output_type": "stream",
          "text": [
            "7.0\n",
            "7.0\n"
          ],
          "name": "stdout"
        }
      ]
    },
    {
      "cell_type": "code",
      "metadata": {
        "colab": {
          "base_uri": "https://localhost:8080/"
        },
        "id": "tJTrTTqNmxyI",
        "outputId": "1a98555f-9419-411d-9527-6f7e7daec479"
      },
      "source": [
        "# Strings\n",
        "mystring = 'hello'\n",
        "print(mystring)\n",
        "mystring = \"hello\"\n",
        "print(mystring)"
      ],
      "execution_count": 7,
      "outputs": [
        {
          "output_type": "stream",
          "text": [
            "hello\n",
            "hello\n"
          ],
          "name": "stdout"
        }
      ]
    },
    {
      "cell_type": "code",
      "metadata": {
        "colab": {
          "base_uri": "https://localhost:8080/"
        },
        "id": "dSricYOYm6hP",
        "outputId": "e0cec244-c0ce-4a0f-9239-1b5d76439bf0"
      },
      "source": [
        "mystring = \"Don't worry about apostrophes\"\n",
        "print(mystring)"
      ],
      "execution_count": 8,
      "outputs": [
        {
          "output_type": "stream",
          "text": [
            "Don't worry about apostrophes\n"
          ],
          "name": "stdout"
        }
      ]
    },
    {
      "cell_type": "code",
      "metadata": {
        "colab": {
          "base_uri": "https://localhost:8080/"
        },
        "id": "ekE9H2drm_kQ",
        "outputId": "45242fb9-daa1-4a40-eefe-d8780d6d20a4"
      },
      "source": [
        "one = 1\n",
        "two = 2\n",
        "three = one + two\n",
        "print(three)\n",
        "\n",
        "hello = \"hello\"\n",
        "world = \"world\"\n",
        "helloworld = hello + \" \" + world\n",
        "print(helloworld)"
      ],
      "execution_count": 9,
      "outputs": [
        {
          "output_type": "stream",
          "text": [
            "3\n",
            "hello world\n"
          ],
          "name": "stdout"
        }
      ]
    },
    {
      "cell_type": "code",
      "metadata": {
        "colab": {
          "base_uri": "https://localhost:8080/"
        },
        "id": "1zfKX011nHlb",
        "outputId": "19f494d5-0af5-480d-85fe-3d34c1f8527d"
      },
      "source": [
        "a, b = 3, 4\n",
        "print(a,b)"
      ],
      "execution_count": 10,
      "outputs": [
        {
          "output_type": "stream",
          "text": [
            "3 4\n"
          ],
          "name": "stdout"
        }
      ]
    },
    {
      "cell_type": "code",
      "metadata": {
        "colab": {
          "base_uri": "https://localhost:8080/",
          "height": 232
        },
        "id": "H6LFjY0YnNWA",
        "outputId": "3f7713e2-5f9d-4b21-89f9-d50530bd9cfe"
      },
      "source": [
        "# This will not work!\n",
        "one = 1\n",
        "two = 2\n",
        "hello = \"hello\"\n",
        "\n",
        "print(one + two + hello)"
      ],
      "execution_count": 11,
      "outputs": [
        {
          "output_type": "error",
          "ename": "TypeError",
          "evalue": "ignored",
          "traceback": [
            "\u001b[0;31m---------------------------------------------------------------------------\u001b[0m",
            "\u001b[0;31mTypeError\u001b[0m                                 Traceback (most recent call last)",
            "\u001b[0;32m<ipython-input-11-fa035bb013ee>\u001b[0m in \u001b[0;36m<module>\u001b[0;34m()\u001b[0m\n\u001b[1;32m      4\u001b[0m \u001b[0mhello\u001b[0m \u001b[0;34m=\u001b[0m \u001b[0;34m\"hello\"\u001b[0m\u001b[0;34m\u001b[0m\u001b[0;34m\u001b[0m\u001b[0m\n\u001b[1;32m      5\u001b[0m \u001b[0;34m\u001b[0m\u001b[0m\n\u001b[0;32m----> 6\u001b[0;31m \u001b[0mprint\u001b[0m\u001b[0;34m(\u001b[0m\u001b[0mone\u001b[0m \u001b[0;34m+\u001b[0m \u001b[0mtwo\u001b[0m \u001b[0;34m+\u001b[0m \u001b[0mhello\u001b[0m\u001b[0;34m)\u001b[0m\u001b[0;34m\u001b[0m\u001b[0;34m\u001b[0m\u001b[0m\n\u001b[0m",
            "\u001b[0;31mTypeError\u001b[0m: unsupported operand type(s) for +: 'int' and 'str'"
          ]
        }
      ]
    },
    {
      "cell_type": "code",
      "metadata": {
        "colab": {
          "base_uri": "https://localhost:8080/"
        },
        "id": "jL9lWq3gnRql",
        "outputId": "ab4042d2-c774-4649-f031-e2e08ada23fa"
      },
      "source": [
        "# Exercise\n",
        "# change this code\n",
        "mystring = \"hello\"\n",
        "myfloat = 10.0\n",
        "myint = 20\n",
        "\n",
        "# testing code\n",
        "if mystring == \"hello\":\n",
        "    print(\"String: %s\" % mystring)\n",
        "if isinstance(myfloat, float) and myfloat == 10.0:\n",
        "    print(\"Float: %f\" % myfloat)\n",
        "if isinstance(myint, int) and myint == 20:\n",
        "    print(\"Integer: %d\" % myint)"
      ],
      "execution_count": 12,
      "outputs": [
        {
          "output_type": "stream",
          "text": [
            "String: hello\n",
            "Float: 10.000000\n",
            "Integer: 20\n"
          ],
          "name": "stdout"
        }
      ]
    },
    {
      "cell_type": "code",
      "metadata": {
        "id": "sm3vX8FhnfDp"
      },
      "source": [
        ""
      ],
      "execution_count": null,
      "outputs": []
    },
    {
      "cell_type": "markdown",
      "metadata": {
        "id": "tRF5Ja72njgB"
      },
      "source": [
        "# Lists"
      ]
    },
    {
      "cell_type": "code",
      "metadata": {
        "colab": {
          "base_uri": "https://localhost:8080/"
        },
        "id": "buS0XNJ9no2S",
        "outputId": "81937a41-b5a5-4ffa-d5c5-32a4a35d0879"
      },
      "source": [
        "mylist = []\n",
        "mylist.append(1)\n",
        "mylist.append(2)\n",
        "mylist.append(3)\n",
        "print(mylist[0]) # prints 1\n",
        "print(mylist[1]) # prints 2\n",
        "print(mylist[2]) # prints 3\n",
        "\n",
        "# prints out 1,2,3\n",
        "for x in mylist:\n",
        "    print(x)\n",
        "\n",
        "print(mylist)"
      ],
      "execution_count": 14,
      "outputs": [
        {
          "output_type": "stream",
          "text": [
            "1\n",
            "2\n",
            "3\n",
            "1\n",
            "2\n",
            "3\n",
            "[1, 2, 3]\n"
          ],
          "name": "stdout"
        }
      ]
    },
    {
      "cell_type": "code",
      "metadata": {
        "colab": {
          "base_uri": "https://localhost:8080/",
          "height": 232
        },
        "id": "hWQ1SJOlnxlw",
        "outputId": "f1a8dc0c-f5b8-4f1e-fd1f-31ec56dcfe5a"
      },
      "source": [
        "# index does not exist\n",
        "mylist = [1,2,3]\n",
        "print(mylist[10])"
      ],
      "execution_count": 15,
      "outputs": [
        {
          "output_type": "error",
          "ename": "IndexError",
          "evalue": "ignored",
          "traceback": [
            "\u001b[0;31m---------------------------------------------------------------------------\u001b[0m",
            "\u001b[0;31mIndexError\u001b[0m                                Traceback (most recent call last)",
            "\u001b[0;32m<ipython-input-15-b29587b2eb21>\u001b[0m in \u001b[0;36m<module>\u001b[0;34m()\u001b[0m\n\u001b[1;32m      1\u001b[0m \u001b[0;31m# index does not exist\u001b[0m\u001b[0;34m\u001b[0m\u001b[0;34m\u001b[0m\u001b[0;34m\u001b[0m\u001b[0m\n\u001b[1;32m      2\u001b[0m \u001b[0mmylist\u001b[0m \u001b[0;34m=\u001b[0m \u001b[0;34m[\u001b[0m\u001b[0;36m1\u001b[0m\u001b[0;34m,\u001b[0m\u001b[0;36m2\u001b[0m\u001b[0;34m,\u001b[0m\u001b[0;36m3\u001b[0m\u001b[0;34m]\u001b[0m\u001b[0;34m\u001b[0m\u001b[0;34m\u001b[0m\u001b[0m\n\u001b[0;32m----> 3\u001b[0;31m \u001b[0mprint\u001b[0m\u001b[0;34m(\u001b[0m\u001b[0mmylist\u001b[0m\u001b[0;34m[\u001b[0m\u001b[0;36m10\u001b[0m\u001b[0;34m]\u001b[0m\u001b[0;34m)\u001b[0m\u001b[0;34m\u001b[0m\u001b[0;34m\u001b[0m\u001b[0m\n\u001b[0m",
            "\u001b[0;31mIndexError\u001b[0m: list index out of range"
          ]
        }
      ]
    },
    {
      "cell_type": "code",
      "metadata": {
        "colab": {
          "base_uri": "https://localhost:8080/"
        },
        "id": "hcQmYBAyn_iA",
        "outputId": "29a8dc30-08db-494d-c606-b1a6fc1a158f"
      },
      "source": [
        "# Exercise\n",
        "numbers = []\n",
        "strings = []\n",
        "names = [\"John\", \"Eric\", \"Jessica\"]\n",
        "\n",
        "# write your code here\n",
        "numbers.append(1)\n",
        "numbers.append(2)\n",
        "numbers.append(3)\n",
        "\n",
        "strings.append('hello')\n",
        "strings.append('world')\n",
        "\n",
        "second_name = names[1]\n",
        "\n",
        "# this code should write out the filled arrays and the second name in the names list (Eric).\n",
        "print(numbers)\n",
        "print(strings)\n",
        "print(\"The second name on the names list is %s\" % second_name)"
      ],
      "execution_count": 24,
      "outputs": [
        {
          "output_type": "stream",
          "text": [
            "[1, 2, 3]\n",
            "['hello', 'world']\n",
            "The second name on the names list is Eric\n"
          ],
          "name": "stdout"
        }
      ]
    },
    {
      "cell_type": "markdown",
      "metadata": {
        "id": "pZZ8PxEOpTZs"
      },
      "source": [
        "# Basic Operators"
      ]
    },
    {
      "cell_type": "code",
      "metadata": {
        "colab": {
          "base_uri": "https://localhost:8080/"
        },
        "id": "JHH1T10ao9uB",
        "outputId": "b2cd5b33-8b15-4c92-93a4-e15a50336d73"
      },
      "source": [
        "# Arithmetic Operators\n",
        "number = 1 + 2 * 3 / 4.0\n",
        "print(number)"
      ],
      "execution_count": 25,
      "outputs": [
        {
          "output_type": "stream",
          "text": [
            "2.5\n"
          ],
          "name": "stdout"
        }
      ]
    },
    {
      "cell_type": "code",
      "metadata": {
        "colab": {
          "base_uri": "https://localhost:8080/"
        },
        "id": "7NlA_I9cps-8",
        "outputId": "1b97e8e0-ac12-4aed-9844-a5259c052787"
      },
      "source": [
        "# Modulo\n",
        "remainder = 11 % 3\n",
        "print(remainder)"
      ],
      "execution_count": 27,
      "outputs": [
        {
          "output_type": "stream",
          "text": [
            "2\n"
          ],
          "name": "stdout"
        }
      ]
    },
    {
      "cell_type": "code",
      "metadata": {
        "colab": {
          "base_uri": "https://localhost:8080/"
        },
        "id": "zPSBW4ldp2wS",
        "outputId": "0791fbfb-b577-45a8-dc14-a0f061417b94"
      },
      "source": [
        "# Power\n",
        "squared = 7 ** 2\n",
        "cubed = 2 ** 3\n",
        "print(squared)\n",
        "print(cubed)"
      ],
      "execution_count": 29,
      "outputs": [
        {
          "output_type": "stream",
          "text": [
            "49\n",
            "8\n"
          ],
          "name": "stdout"
        }
      ]
    },
    {
      "cell_type": "code",
      "metadata": {
        "colab": {
          "base_uri": "https://localhost:8080/"
        },
        "id": "wbWhErBep_XR",
        "outputId": "9d4b148e-c555-4a6c-cecf-bddef7c382e7"
      },
      "source": [
        "# Operators with Strings\n",
        "helloworld = \"hello\" + \" \" + \"world\"\n",
        "print(helloworld)"
      ],
      "execution_count": 30,
      "outputs": [
        {
          "output_type": "stream",
          "text": [
            "hello world\n"
          ],
          "name": "stdout"
        }
      ]
    },
    {
      "cell_type": "code",
      "metadata": {
        "colab": {
          "base_uri": "https://localhost:8080/"
        },
        "id": "zqIiC9vRqJbx",
        "outputId": "5547d164-374d-4973-abe9-056a183eb6fc"
      },
      "source": [
        "lotsofhellos = \"hello\" * 10\n",
        "print(lotsofhellos)"
      ],
      "execution_count": 31,
      "outputs": [
        {
          "output_type": "stream",
          "text": [
            "hellohellohellohellohellohellohellohellohellohello\n"
          ],
          "name": "stdout"
        }
      ]
    },
    {
      "cell_type": "code",
      "metadata": {
        "colab": {
          "base_uri": "https://localhost:8080/"
        },
        "id": "CBgabJahqN__",
        "outputId": "fe175764-398e-4e95-e3bd-865c908c1a49"
      },
      "source": [
        "# Operators with Lists\n",
        "even_numbers = [2,4,6,8]\n",
        "odd_numbers = [1,3,5,7]\n",
        "all_numbers = odd_numbers + even_numbers\n",
        "print(all_numbers)"
      ],
      "execution_count": 32,
      "outputs": [
        {
          "output_type": "stream",
          "text": [
            "[1, 3, 5, 7, 2, 4, 6, 8]\n"
          ],
          "name": "stdout"
        }
      ]
    },
    {
      "cell_type": "code",
      "metadata": {
        "colab": {
          "base_uri": "https://localhost:8080/"
        },
        "id": "Q7ZdZBx4qeVu",
        "outputId": "a5af4068-c20a-46f7-8d53-4480f6ea1407"
      },
      "source": [
        "print([1,2,3] * 3)"
      ],
      "execution_count": 33,
      "outputs": [
        {
          "output_type": "stream",
          "text": [
            "[1, 2, 3, 1, 2, 3, 1, 2, 3]\n"
          ],
          "name": "stdout"
        }
      ]
    },
    {
      "cell_type": "code",
      "metadata": {
        "colab": {
          "base_uri": "https://localhost:8080/"
        },
        "id": "taIlHDMjqjtW",
        "outputId": "6609d9ea-313b-49e3-f4c8-799199861c31"
      },
      "source": [
        "# Exercise\n",
        "x = object()\n",
        "y = object()\n",
        "\n",
        "# TODO: change this code\n",
        "x_list = [x] * 10\n",
        "y_list = [y] * 10\n",
        "big_list = x_list + y_list\n",
        "\n",
        "print(\"x_list contains %d objects\" % len(x_list))\n",
        "print(\"y_list contains %d objects\" % len(y_list))\n",
        "print(\"big_list contains %d objects\" % len(big_list))\n",
        "\n",
        "# testing code\n",
        "if x_list.count(x) == 10 and y_list.count(y) == 10:\n",
        "    print(\"Almost there...\")\n",
        "if big_list.count(x) == 10 and big_list.count(y) == 10:\n",
        "    print(\"Great!\")"
      ],
      "execution_count": 48,
      "outputs": [
        {
          "output_type": "stream",
          "text": [
            "x_list contains 10 objects\n",
            "y_list contains 10 objects\n",
            "big_list contains 20 objects\n",
            "Almost there...\n",
            "Great!\n"
          ],
          "name": "stdout"
        }
      ]
    },
    {
      "cell_type": "markdown",
      "metadata": {
        "id": "V-C8eAmVsUG9"
      },
      "source": [
        "# String Formatting"
      ]
    },
    {
      "cell_type": "code",
      "metadata": {
        "colab": {
          "base_uri": "https://localhost:8080/"
        },
        "id": "DRY8gdAbsWLc",
        "outputId": "61b3b494-59e7-4fe8-9525-9f1ba1760c4b"
      },
      "source": [
        "# This prints out \"Hello, John!\"\n",
        "name = \"John\"\n",
        "print(\"Hello, %s!\" % name)"
      ],
      "execution_count": 1,
      "outputs": [
        {
          "output_type": "stream",
          "text": [
            "Hello, John!\n"
          ],
          "name": "stdout"
        }
      ]
    },
    {
      "cell_type": "code",
      "metadata": {
        "colab": {
          "base_uri": "https://localhost:8080/"
        },
        "id": "wN8yrRKiD4Yi",
        "outputId": "6351b542-9f47-45d8-90de-d4aef43e2f92"
      },
      "source": [
        "# This prints out \"John is 23 years old.\"\n",
        "name = \"John\"\n",
        "age = 23\n",
        "print(\"%s is %d years old.\" % (name, age))"
      ],
      "execution_count": 2,
      "outputs": [
        {
          "output_type": "stream",
          "text": [
            "John is 23 years old.\n"
          ],
          "name": "stdout"
        }
      ]
    },
    {
      "cell_type": "code",
      "metadata": {
        "colab": {
          "base_uri": "https://localhost:8080/"
        },
        "id": "BXKxnmzWEaMg",
        "outputId": "b8664274-2792-4f0c-e827-a91107c848cf"
      },
      "source": [
        "# This prints out: A list: [1, 2, 3]\n",
        "mylist = [1,2,3]\n",
        "print(\"A list: %s\" % mylist)"
      ],
      "execution_count": 3,
      "outputs": [
        {
          "output_type": "stream",
          "text": [
            "A list: [1, 2, 3]\n"
          ],
          "name": "stdout"
        }
      ]
    },
    {
      "cell_type": "code",
      "metadata": {
        "colab": {
          "base_uri": "https://localhost:8080/"
        },
        "id": "Ao1fp0N7EkYa",
        "outputId": "192459c0-128e-4fe0-b492-4dcfcf402746"
      },
      "source": [
        "data = (\"John\", \"Doe\", 53.44)\n",
        "format_string = \"Hello\"\n",
        "\n",
        "print(format_string + \" %s %s. Your current balance is $%s.\" % (data[0], data[1], data[2]))"
      ],
      "execution_count": 12,
      "outputs": [
        {
          "output_type": "stream",
          "text": [
            "Hello John Doe. Your current balance is $53.44.\n"
          ],
          "name": "stdout"
        }
      ]
    },
    {
      "cell_type": "markdown",
      "metadata": {
        "id": "G2wx566pF3X8"
      },
      "source": [
        "# Basic String Operations"
      ]
    },
    {
      "cell_type": "code",
      "metadata": {
        "id": "YeThU1_ZE08w"
      },
      "source": [
        "astring = \"Hello world!\"\n",
        "astring2 = 'Hello world!'"
      ],
      "execution_count": 14,
      "outputs": []
    },
    {
      "cell_type": "code",
      "metadata": {
        "colab": {
          "base_uri": "https://localhost:8080/"
        },
        "id": "zsS6LxExGgGw",
        "outputId": "15fa5679-092a-4214-a83f-f68353e3933a"
      },
      "source": [
        "astring = \"Hello world!\"\n",
        "print(\"single quotes are ' '\")\n",
        "\n",
        "print(len(astring))"
      ],
      "execution_count": 15,
      "outputs": [
        {
          "output_type": "stream",
          "text": [
            "single quotes are ' '\n",
            "12\n"
          ],
          "name": "stdout"
        }
      ]
    },
    {
      "cell_type": "code",
      "metadata": {
        "colab": {
          "base_uri": "https://localhost:8080/"
        },
        "id": "HLmQVyh5Gi1F",
        "outputId": "1c3023ab-3924-46b0-ab0d-cc1c5cc97384"
      },
      "source": [
        "astring = \"Hello world!\"\n",
        "print(astring.index(\"o\"))"
      ],
      "execution_count": 16,
      "outputs": [
        {
          "output_type": "stream",
          "text": [
            "4\n"
          ],
          "name": "stdout"
        }
      ]
    },
    {
      "cell_type": "code",
      "metadata": {
        "colab": {
          "base_uri": "https://localhost:8080/"
        },
        "id": "woXu8FDOGqwZ",
        "outputId": "a11f3254-aab3-44ac-bf5b-e0c20dcae765"
      },
      "source": [
        "astring = \"Hello world!\"\n",
        "print(astring.count(\"l\"))"
      ],
      "execution_count": 17,
      "outputs": [
        {
          "output_type": "stream",
          "text": [
            "3\n"
          ],
          "name": "stdout"
        }
      ]
    },
    {
      "cell_type": "code",
      "metadata": {
        "colab": {
          "base_uri": "https://localhost:8080/"
        },
        "id": "5YCiHhdNGzIm",
        "outputId": "fb5d7938-e234-4c39-d31f-4acbf3a480ba"
      },
      "source": [
        "astring = \"Hello world!\"\n",
        "print(astring[3:7])"
      ],
      "execution_count": 18,
      "outputs": [
        {
          "output_type": "stream",
          "text": [
            "lo w\n"
          ],
          "name": "stdout"
        }
      ]
    },
    {
      "cell_type": "code",
      "metadata": {
        "colab": {
          "base_uri": "https://localhost:8080/"
        },
        "id": "ZWKxGtwIG62Z",
        "outputId": "fa15b157-6661-438d-ca8c-4b67b4469ceb"
      },
      "source": [
        "astring = \"Hello world!\"\n",
        "print(astring[3:7:2])"
      ],
      "execution_count": 19,
      "outputs": [
        {
          "output_type": "stream",
          "text": [
            "l \n"
          ],
          "name": "stdout"
        }
      ]
    },
    {
      "cell_type": "code",
      "metadata": {
        "colab": {
          "base_uri": "https://localhost:8080/"
        },
        "id": "bZHq1xq1HOxQ",
        "outputId": "81290a06-3aac-4fc4-b2ed-224e68fae12d"
      },
      "source": [
        "astring = \"Hello world!\"\n",
        "print(astring[3:7])\n",
        "print(astring[3:7:1])"
      ],
      "execution_count": 20,
      "outputs": [
        {
          "output_type": "stream",
          "text": [
            "lo w\n",
            "lo w\n"
          ],
          "name": "stdout"
        }
      ]
    },
    {
      "cell_type": "code",
      "metadata": {
        "colab": {
          "base_uri": "https://localhost:8080/"
        },
        "id": "mM8B4yoDHXjZ",
        "outputId": "d124bb04-0fe5-41fb-bbfb-821c14f3b676"
      },
      "source": [
        "# reverse a string\n",
        "astring = \"Hello world!\"\n",
        "print(astring[::-1])"
      ],
      "execution_count": 22,
      "outputs": [
        {
          "output_type": "stream",
          "text": [
            "!dlrow olleH\n"
          ],
          "name": "stdout"
        }
      ]
    },
    {
      "cell_type": "code",
      "metadata": {
        "colab": {
          "base_uri": "https://localhost:8080/"
        },
        "id": "N_-v60uqHdcx",
        "outputId": "14bdd52d-462d-4c51-9d2b-847ebd21f6fb"
      },
      "source": [
        "astring = \"Hello world!\"\n",
        "print(astring.upper())\n",
        "print(astring.lower())"
      ],
      "execution_count": 23,
      "outputs": [
        {
          "output_type": "stream",
          "text": [
            "HELLO WORLD!\n",
            "hello world!\n"
          ],
          "name": "stdout"
        }
      ]
    },
    {
      "cell_type": "code",
      "metadata": {
        "colab": {
          "base_uri": "https://localhost:8080/"
        },
        "id": "nNgl6toBHjHA",
        "outputId": "e40ee145-38fd-4385-b353-e38f1489aa6d"
      },
      "source": [
        "astring = \"Hello world!\"\n",
        "print(astring.startswith(\"Hello\"))\n",
        "print(astring.endswith(\"asdfasdfasdf\"))"
      ],
      "execution_count": 24,
      "outputs": [
        {
          "output_type": "stream",
          "text": [
            "True\n",
            "False\n"
          ],
          "name": "stdout"
        }
      ]
    },
    {
      "cell_type": "code",
      "metadata": {
        "colab": {
          "base_uri": "https://localhost:8080/"
        },
        "id": "An2L6Y-QHmjf",
        "outputId": "b4fe15e3-ceb7-492c-a629-e11ba8780917"
      },
      "source": [
        "astring = \"Hello world!\"\n",
        "afewwords = astring.split(\" \")\n",
        "print(afewwords)"
      ],
      "execution_count": 26,
      "outputs": [
        {
          "output_type": "stream",
          "text": [
            "['Hello', 'world!']\n"
          ],
          "name": "stdout"
        }
      ]
    },
    {
      "cell_type": "code",
      "metadata": {
        "colab": {
          "base_uri": "https://localhost:8080/"
        },
        "id": "cDeM7kJkHumT",
        "outputId": "e7ab9df4-a38d-4c8f-81e6-6381e5eb188c"
      },
      "source": [
        "# Exercise\n",
        "s = \"Strings are awesome!\"\n",
        "# Length should be 20\n",
        "print(\"Length of s = %d\" % len(s))\n",
        "\n",
        "# First occurrence of \"a\" should be at index 8\n",
        "print(\"The first occurrence of the letter a = %d\" % s.index(\"a\"))\n",
        "\n",
        "# Number of a's should be 2\n",
        "print(\"a occurs %d times\" % s.count(\"a\"))\n",
        "\n",
        "# Slicing the string into bits\n",
        "print(\"The first five characters are '%s'\" % s[:5]) # Start to 5\n",
        "print(\"The next five characters are '%s'\" % s[5:10]) # 5 to 10\n",
        "print(\"The thirteenth character is '%s'\" % s[12]) # Just number 12\n",
        "print(\"The characters with odd index are '%s'\" %s[1::2]) #(0-based indexing)\n",
        "print(\"The last five characters are '%s'\" % s[-5:]) # 5th-from-last to end\n",
        "\n",
        "# Convert everything to uppercase\n",
        "print(\"String in uppercase: %s\" % s.upper())\n",
        "\n",
        "# Convert everything to lowercase\n",
        "print(\"String in lowercase: %s\" % s.lower())\n",
        "\n",
        "# Check how a string starts\n",
        "if s.startswith(\"Str\"):\n",
        "    print(\"String starts with 'Str'. Good!\")\n",
        "\n",
        "# Check how a string ends\n",
        "if s.endswith(\"ome!\"):\n",
        "    print(\"String ends with 'ome!'. Good!\")\n",
        "\n",
        "# Split the string into three separate strings,\n",
        "# each containing only a word\n",
        "print(\"Split the words of the string: %s\" % s.split(\" \"))"
      ],
      "execution_count": 36,
      "outputs": [
        {
          "output_type": "stream",
          "text": [
            "Length of s = 20\n",
            "The first occurrence of the letter a = 8\n",
            "a occurs 2 times\n",
            "The first five characters are 'Strin'\n",
            "The next five characters are 'gs ar'\n",
            "The thirteenth character is 'a'\n",
            "The characters with odd index are 'tig r wsm!'\n",
            "The last five characters are 'some!'\n",
            "String in uppercase: STRINGS ARE AWESOME!\n",
            "String in lowercase: strings are awesome!\n",
            "String starts with 'Str'. Good!\n",
            "String ends with 'ome!'. Good!\n",
            "Split the words of the string: ['Strings', 'are', 'awesome!']\n"
          ],
          "name": "stdout"
        }
      ]
    },
    {
      "cell_type": "code",
      "metadata": {
        "id": "ER5SHzxaH_rm"
      },
      "source": [
        ""
      ],
      "execution_count": null,
      "outputs": []
    },
    {
      "cell_type": "markdown",
      "metadata": {
        "id": "suWofypfJOHf"
      },
      "source": [
        "# Conditions"
      ]
    },
    {
      "cell_type": "code",
      "metadata": {
        "colab": {
          "base_uri": "https://localhost:8080/"
        },
        "id": "ekfHSUApJSEk",
        "outputId": "0f9e3efa-3ee2-45ed-c635-5ab7c990232c"
      },
      "source": [
        "x = 2\n",
        "print(x == 2) # prints out True\n",
        "print(x == 3) # prints out False\n",
        "print(x < 3) # prints out True"
      ],
      "execution_count": 37,
      "outputs": [
        {
          "output_type": "stream",
          "text": [
            "True\n",
            "False\n",
            "True\n"
          ],
          "name": "stdout"
        }
      ]
    },
    {
      "cell_type": "code",
      "metadata": {
        "colab": {
          "base_uri": "https://localhost:8080/"
        },
        "id": "zgB6lc8gJXzZ",
        "outputId": "d2e39c31-00cd-4b8d-a401-d0fbb8f718c8"
      },
      "source": [
        "# Boolean Operators\n",
        "name = \"John\"\n",
        "age = 23\n",
        "if name == \"John\" and age == 23:\n",
        "    print(\"Your name is John, and you are also 23 years old.\")\n",
        "\n",
        "if name == \"John\" or name == \"Rick\":\n",
        "    print(\"Your name is either John or Rick.\")"
      ],
      "execution_count": 38,
      "outputs": [
        {
          "output_type": "stream",
          "text": [
            "Your name is John, and you are also 23 years old.\n",
            "Your name is either John or Rick.\n"
          ],
          "name": "stdout"
        }
      ]
    },
    {
      "cell_type": "code",
      "metadata": {
        "colab": {
          "base_uri": "https://localhost:8080/"
        },
        "id": "dmqLcJHfJkBq",
        "outputId": "03d2105f-380c-4795-9eaf-769766646dfa"
      },
      "source": [
        "# The \"in\" Operator\n",
        "name = \"John\"\n",
        "if name in [\"John\", \"Rick\"]:\n",
        "    print(\"Your name is either John or Rick.\")"
      ],
      "execution_count": 39,
      "outputs": [
        {
          "output_type": "stream",
          "text": [
            "Your name is either John or Rick.\n"
          ],
          "name": "stdout"
        }
      ]
    },
    {
      "cell_type": "code",
      "metadata": {
        "id": "OOv3eOUWJuMF"
      },
      "source": [
        "statement = False\n",
        "another_statement = True\n",
        "if statement is True:\n",
        "    # do something\n",
        "    pass\n",
        "elif another_statement is True: # else if\n",
        "    # do something else\n",
        "    pass\n",
        "else:\n",
        "    # do another thing\n",
        "    pass"
      ],
      "execution_count": 40,
      "outputs": []
    },
    {
      "cell_type": "code",
      "metadata": {
        "colab": {
          "base_uri": "https://localhost:8080/"
        },
        "id": "ZKmeDtJiJ2VC",
        "outputId": "2c8daa40-9deb-40cb-b30d-9595a2cc10f1"
      },
      "source": [
        "x = 2\n",
        "if x == 2:\n",
        "    print(\"x equals two!\")\n",
        "else:\n",
        "    print(\"x does not equal to two.\")"
      ],
      "execution_count": 41,
      "outputs": [
        {
          "output_type": "stream",
          "text": [
            "x equals two!\n"
          ],
          "name": "stdout"
        }
      ]
    },
    {
      "cell_type": "code",
      "metadata": {
        "colab": {
          "base_uri": "https://localhost:8080/"
        },
        "id": "YV2f1Xq1J8uI",
        "outputId": "0053430e-da16-4a8e-87fd-4b642b613ef2"
      },
      "source": [
        "# The \"is\" Operator\n",
        "x = [1,2,3]\n",
        "y = [1,2,3]\n",
        "print(x == y) # Prints out True\n",
        "print(x is y) # Prints out False"
      ],
      "execution_count": 42,
      "outputs": [
        {
          "output_type": "stream",
          "text": [
            "True\n",
            "False\n"
          ],
          "name": "stdout"
        }
      ]
    },
    {
      "cell_type": "code",
      "metadata": {
        "colab": {
          "base_uri": "https://localhost:8080/"
        },
        "id": "5ibe2_-wKIaJ",
        "outputId": "c8f39821-1c4d-4fee-9f7c-5d3f89b902e8"
      },
      "source": [
        "# The \"not\" Operator\n",
        "print(not False) # Prints out True\n",
        "print((not False) == (False)) # Prints out False"
      ],
      "execution_count": 43,
      "outputs": [
        {
          "output_type": "stream",
          "text": [
            "True\n",
            "False\n"
          ],
          "name": "stdout"
        }
      ]
    },
    {
      "cell_type": "code",
      "metadata": {
        "colab": {
          "base_uri": "https://localhost:8080/"
        },
        "id": "pyZbXOBWKSA2",
        "outputId": "746bb771-d73b-4510-c4d0-f9bd31af4edc"
      },
      "source": [
        "# Exercise\n",
        "# change this code\n",
        "number = 16\n",
        "second_number = 0\n",
        "first_array = [1, 2, 3]\n",
        "second_array = [1,2]\n",
        "\n",
        "if number > 15:\n",
        "    print(\"1\")\n",
        "\n",
        "if first_array:\n",
        "    print(\"2\")\n",
        "\n",
        "if len(second_array) == 2:\n",
        "    print(\"3\")\n",
        "\n",
        "if len(first_array) + len(second_array) == 5:\n",
        "    print(\"4\")\n",
        "\n",
        "if first_array and first_array[0] == 1:\n",
        "    print(\"5\")\n",
        "\n",
        "if not second_number:\n",
        "    print(\"6\")"
      ],
      "execution_count": 49,
      "outputs": [
        {
          "output_type": "stream",
          "text": [
            "1\n",
            "2\n",
            "3\n",
            "4\n",
            "5\n",
            "6\n"
          ],
          "name": "stdout"
        }
      ]
    },
    {
      "cell_type": "markdown",
      "metadata": {
        "id": "Apkx_DlKLKCA"
      },
      "source": [
        "# Loops"
      ]
    },
    {
      "cell_type": "code",
      "metadata": {
        "colab": {
          "base_uri": "https://localhost:8080/"
        },
        "id": "MXEBokSmKfIm",
        "outputId": "a61e4019-49eb-43eb-efdd-662cb0031bb9"
      },
      "source": [
        "# the \"for\" loop\n",
        "primes = [2, 3, 5, 7]\n",
        "for prime in primes:\n",
        "    print(prime)"
      ],
      "execution_count": 50,
      "outputs": [
        {
          "output_type": "stream",
          "text": [
            "2\n",
            "3\n",
            "5\n",
            "7\n"
          ],
          "name": "stdout"
        }
      ]
    },
    {
      "cell_type": "code",
      "metadata": {
        "colab": {
          "base_uri": "https://localhost:8080/"
        },
        "id": "5Az6arEALTE3",
        "outputId": "cde06c80-b822-4cb3-daa9-0eb23d851622"
      },
      "source": [
        "# Prints out the numbers 0,1,2,3,4\n",
        "for x in range(5):\n",
        "    print(x)\n",
        "print()\n",
        "# Prints out 3,4,5\n",
        "for x in range(3, 6):\n",
        "    print(x)\n",
        "print()\n",
        "# Prints out 3,5,7\n",
        "for x in range(3, 8, 2):\n",
        "    print(x)"
      ],
      "execution_count": 53,
      "outputs": [
        {
          "output_type": "stream",
          "text": [
            "0\n",
            "1\n",
            "2\n",
            "3\n",
            "4\n",
            "\n",
            "3\n",
            "4\n",
            "5\n",
            "\n",
            "3\n",
            "5\n",
            "7\n"
          ],
          "name": "stdout"
        }
      ]
    },
    {
      "cell_type": "code",
      "metadata": {
        "colab": {
          "base_uri": "https://localhost:8080/"
        },
        "id": "EBGQOcqXLebv",
        "outputId": "69b29bf5-22bf-40b5-d5ad-8ea7b970f694"
      },
      "source": [
        "# \"while\" loops\n",
        "\n",
        "# Prints out 0,1,2,3,4\n",
        "count = 0\n",
        "while count < 5:\n",
        "    print(count)\n",
        "    count += 1  # This is the same as count = count + 1"
      ],
      "execution_count": 54,
      "outputs": [
        {
          "output_type": "stream",
          "text": [
            "0\n",
            "1\n",
            "2\n",
            "3\n",
            "4\n"
          ],
          "name": "stdout"
        }
      ]
    },
    {
      "cell_type": "code",
      "metadata": {
        "colab": {
          "base_uri": "https://localhost:8080/"
        },
        "id": "452Obqc_LzRR",
        "outputId": "31554f3e-a9ba-4ac2-b337-4894dc3b72e5"
      },
      "source": [
        "# \"break\" and \"continue\" statements\n",
        "\n",
        "# Prints out 0,1,2,3,4\n",
        "count = 0\n",
        "while True:\n",
        "    print(count)\n",
        "    count += 1\n",
        "    if count >= 5:\n",
        "        break\n",
        "print()\n",
        "\n",
        "# Prints out only odd numbers - 1,3,5,7,9\n",
        "for x in range(10):\n",
        "    # Check if x is even\n",
        "    if x % 2 == 0:\n",
        "        continue\n",
        "    print(x)"
      ],
      "execution_count": 58,
      "outputs": [
        {
          "output_type": "stream",
          "text": [
            "0\n",
            "1\n",
            "2\n",
            "3\n",
            "4\n",
            "\n",
            "1\n",
            "3\n",
            "5\n",
            "7\n",
            "9\n"
          ],
          "name": "stdout"
        }
      ]
    },
    {
      "cell_type": "code",
      "metadata": {
        "colab": {
          "base_uri": "https://localhost:8080/"
        },
        "id": "FKg8ks4UL9kl",
        "outputId": "67f56592-a3cd-4af2-a316-303bf30bf63a"
      },
      "source": [
        "# \"else\" in loops\n",
        "\n",
        "# Prints out 0,1,2,3,4 and then it prints \"count value reached 5\"\n",
        "count = 0\n",
        "while(count < 5):\n",
        "    print(count)\n",
        "    count += 1\n",
        "else:\n",
        "    print(\"count value reached %d\" %(count))\n",
        "print()\n",
        "\n",
        "# Prints out 1,2,3,4\n",
        "for i in range(1, 10):\n",
        "    if(i % 5 == 0):\n",
        "        break\n",
        "    print(i)\n",
        "else:\n",
        "    print(\"this is not printed because for loop is terminated because of break but not due to fail in condition\")"
      ],
      "execution_count": 62,
      "outputs": [
        {
          "output_type": "stream",
          "text": [
            "0\n",
            "1\n",
            "2\n",
            "3\n",
            "4\n",
            "count value reached 5\n",
            "\n",
            "1\n",
            "2\n",
            "3\n",
            "4\n"
          ],
          "name": "stdout"
        }
      ]
    },
    {
      "cell_type": "code",
      "metadata": {
        "colab": {
          "base_uri": "https://localhost:8080/"
        },
        "id": "Dwjn4FaEMW1Y",
        "outputId": "d5fe97b6-ec39-4c1a-b09f-cab20c37c7e8"
      },
      "source": [
        "# Exercise\n",
        "numbers = [\n",
        "    951, 402, 984, 651, 360, 69, 408, 319, 601, 485, 980, 507, 725, 547, 544,\n",
        "    615, 83, 165, 141, 501, 263, 617, 865, 575, 219, 390, 984, 592, 236, 105, 942, 941,\n",
        "    386, 462, 47, 418, 907, 344, 236, 375, 823, 566, 597, 978, 328, 615, 953, 345,\n",
        "    399, 162, 758, 219, 918, 237, 412, 566, 826, 248, 866, 950, 626, 949, 687, 217,\n",
        "    815, 67, 104, 58, 512, 24, 892, 894, 767, 553, 81, 379, 843, 831, 445, 742, 717,\n",
        "    958, 609, 842, 451, 688, 753, 854, 685, 93, 857, 440, 380, 126, 721, 328, 753, 470,\n",
        "    743, 527\n",
        "]\n",
        "\n",
        "# your code goes here\n",
        "for number in numbers:\n",
        "    if number == 237:\n",
        "      break\n",
        "    if number % 2 == 1:\n",
        "      continue\n",
        "    print(number)"
      ],
      "execution_count": 66,
      "outputs": [
        {
          "output_type": "stream",
          "text": [
            "402\n",
            "984\n",
            "360\n",
            "408\n",
            "980\n",
            "544\n",
            "390\n",
            "984\n",
            "592\n",
            "236\n",
            "942\n",
            "386\n",
            "462\n",
            "418\n",
            "344\n",
            "236\n",
            "566\n",
            "978\n",
            "328\n",
            "162\n",
            "758\n",
            "918\n"
          ],
          "name": "stdout"
        }
      ]
    },
    {
      "cell_type": "markdown",
      "metadata": {
        "id": "9yiCGRo1OLDt"
      },
      "source": [
        "# Functions"
      ]
    },
    {
      "cell_type": "code",
      "metadata": {
        "id": "_IKtAYtyNIHi"
      },
      "source": [
        "def my_function():\n",
        "    print(\"Hello From My Function!\")"
      ],
      "execution_count": 68,
      "outputs": []
    },
    {
      "cell_type": "code",
      "metadata": {
        "colab": {
          "base_uri": "https://localhost:8080/"
        },
        "id": "vt9RIESIOloA",
        "outputId": "7d549d20-5b17-4c3b-85d7-28bcbfaf4bb1"
      },
      "source": [
        "my_function()"
      ],
      "execution_count": 70,
      "outputs": [
        {
          "output_type": "stream",
          "text": [
            "Hello From My Function!\n"
          ],
          "name": "stdout"
        }
      ]
    },
    {
      "cell_type": "code",
      "metadata": {
        "id": "rVvjxv6dOrqo"
      },
      "source": [
        "def my_function_with_args(username, greeting):\n",
        "    print(\"Hello, %s , From My Function!, I wish you %s\"%(username, greeting))"
      ],
      "execution_count": 71,
      "outputs": []
    },
    {
      "cell_type": "code",
      "metadata": {
        "colab": {
          "base_uri": "https://localhost:8080/"
        },
        "id": "thVhs-1LOvFB",
        "outputId": "28ab04b7-120f-4db0-95a5-2d79bdd96eb4"
      },
      "source": [
        "my_function_with_args(\"Jane\", \"good health!\")"
      ],
      "execution_count": 74,
      "outputs": [
        {
          "output_type": "stream",
          "text": [
            "Hello, Jane , From My Function!, I wish you good health!\n"
          ],
          "name": "stdout"
        }
      ]
    },
    {
      "cell_type": "code",
      "metadata": {
        "id": "sL2t5pt5O4Q_"
      },
      "source": [
        "def sum_two_numbers(a, b):\n",
        "    return a + b"
      ],
      "execution_count": 75,
      "outputs": []
    },
    {
      "cell_type": "code",
      "metadata": {
        "colab": {
          "base_uri": "https://localhost:8080/"
        },
        "id": "Ky30aGrAPAgk",
        "outputId": "be825ff2-9511-4b99-f619-9a63d4c03ac4"
      },
      "source": [
        "sum_two_numbers(2,2)"
      ],
      "execution_count": 76,
      "outputs": [
        {
          "output_type": "execute_result",
          "data": {
            "text/plain": [
              "4"
            ]
          },
          "metadata": {
            "tags": []
          },
          "execution_count": 76
        }
      ]
    },
    {
      "cell_type": "code",
      "metadata": {
        "colab": {
          "base_uri": "https://localhost:8080/"
        },
        "id": "lLRPYtFkPCzC",
        "outputId": "6f577ec1-22e9-4c35-b899-5182d6b8ab0d"
      },
      "source": [
        "# Calling functions\n",
        "# Define our 3 functions\n",
        "def my_function():\n",
        "    print(\"Hello From My Function!\")\n",
        "\n",
        "def my_function_with_args(username, greeting):\n",
        "    print(\"Hello, %s , From My Function!, I wish you %s\"%(username, greeting))\n",
        "\n",
        "def sum_two_numbers(a, b):\n",
        "    return a + b\n",
        "\n",
        "# print(a simple greeting)\n",
        "my_function()\n",
        "\n",
        "#prints - \"Hello, John Doe, From My Function!, I wish you a great year!\"\n",
        "my_function_with_args(\"John Doe\", \"a great year!\")\n",
        "\n",
        "# after this line x will hold the value 3!\n",
        "x = sum_two_numbers(1,2)\n",
        "x\n"
      ],
      "execution_count": 78,
      "outputs": [
        {
          "output_type": "stream",
          "text": [
            "Hello From My Function!\n",
            "Hello, John Doe , From My Function!, I wish you a great year!\n"
          ],
          "name": "stdout"
        },
        {
          "output_type": "execute_result",
          "data": {
            "text/plain": [
              "3"
            ]
          },
          "metadata": {
            "tags": []
          },
          "execution_count": 78
        }
      ]
    },
    {
      "cell_type": "code",
      "metadata": {
        "colab": {
          "base_uri": "https://localhost:8080/"
        },
        "id": "wVRkBKhSPIgi",
        "outputId": "bc2bacca-94ec-4d04-d849-76d9d7376001"
      },
      "source": [
        "# Exercise\n",
        "# Modify this function to return a list of strings as defined above\n",
        "def list_benefits():\n",
        "    return[\"More organized code\", \"More readable code\", \"Easier code reuse\", \"Allowing programmers to share and connect code together\"]\n",
        "\n",
        "# Modify this function to concatenate to each benefit - \" is a benefit of functions!\"\n",
        "def build_sentence(benefit):\n",
        "    return benefit + \" is a benefit of functions!\"\n",
        "\n",
        "def name_the_benefits_of_functions():\n",
        "    list_of_benefits = list_benefits()\n",
        "    for benefit in list_of_benefits:\n",
        "        print(build_sentence(benefit))\n",
        "\n",
        "name_the_benefits_of_functions()"
      ],
      "execution_count": 80,
      "outputs": [
        {
          "output_type": "stream",
          "text": [
            "More organized code is a benefit of functions!\n",
            "More readable code is a benefit of functions!\n",
            "Easier code reuse is a benefit of functions!\n",
            "Allowing programmers to share and connect code together is a benefit of functions!\n"
          ],
          "name": "stdout"
        }
      ]
    },
    {
      "cell_type": "markdown",
      "metadata": {
        "id": "sCYoaDs_P-uS"
      },
      "source": [
        "# Classes and Objects"
      ]
    },
    {
      "cell_type": "code",
      "metadata": {
        "id": "Rk3Nbr4GPqww"
      },
      "source": [
        "class MyClass:\n",
        "    variable = \"blah\"\n",
        "\n",
        "    def function(self):\n",
        "        print(\"This is a message inside the class.\")"
      ],
      "execution_count": 81,
      "outputs": []
    },
    {
      "cell_type": "code",
      "metadata": {
        "id": "chlrYTLIQHhF"
      },
      "source": [
        "class MyClass:\n",
        "    variable = \"blah\"\n",
        "\n",
        "    def function(self):\n",
        "        print(\"This is a message inside the class.\")\n",
        "\n",
        "# assign to object\n",
        "myobjectx = MyClass()"
      ],
      "execution_count": 83,
      "outputs": []
    },
    {
      "cell_type": "code",
      "metadata": {
        "colab": {
          "base_uri": "https://localhost:8080/",
          "height": 37
        },
        "id": "nQC1M8OoQOAG",
        "outputId": "c66e3ac6-f395-4c51-8c76-67b3258b1bbd"
      },
      "source": [
        "class MyClass:\n",
        "    variable = \"blah\"\n",
        "\n",
        "    def function(self):\n",
        "        print(\"This is a message inside the class.\")\n",
        "\n",
        "myobjectx = MyClass()\n",
        "\n",
        "# access variable\n",
        "myobjectx.variable"
      ],
      "execution_count": 84,
      "outputs": [
        {
          "output_type": "execute_result",
          "data": {
            "application/vnd.google.colaboratory.intrinsic+json": {
              "type": "string"
            },
            "text/plain": [
              "'blah'"
            ]
          },
          "metadata": {
            "tags": []
          },
          "execution_count": 84
        }
      ]
    },
    {
      "cell_type": "code",
      "metadata": {
        "colab": {
          "base_uri": "https://localhost:8080/"
        },
        "id": "bVRHvp4lQdNK",
        "outputId": "432eecf0-0555-475e-bd52-bb474aa4f61a"
      },
      "source": [
        "class MyClass:\n",
        "    variable = \"blah\"\n",
        "\n",
        "    def function(self):\n",
        "        print(\"This is a message inside the class.\")\n",
        "\n",
        "myobjectx = MyClass()\n",
        "\n",
        "print(myobjectx.variable)"
      ],
      "execution_count": 85,
      "outputs": [
        {
          "output_type": "stream",
          "text": [
            "blah\n"
          ],
          "name": "stdout"
        }
      ]
    },
    {
      "cell_type": "code",
      "metadata": {
        "colab": {
          "base_uri": "https://localhost:8080/"
        },
        "id": "zmhJHo2MQhUo",
        "outputId": "9cbfc7a1-d862-4198-cf2b-828d1b0e6f2f"
      },
      "source": [
        "class MyClass:\n",
        "    variable = \"blah\"\n",
        "\n",
        "    def function(self):\n",
        "        print(\"This is a message inside the class.\")\n",
        "\n",
        "myobjectx = MyClass()\n",
        "myobjecty = MyClass()\n",
        "\n",
        "myobjecty.variable = \"yackity\"\n",
        "\n",
        "# Then print out both values\n",
        "print(myobjectx.variable)\n",
        "print(myobjecty.variable)"
      ],
      "execution_count": 86,
      "outputs": [
        {
          "output_type": "stream",
          "text": [
            "blah\n",
            "yackity\n"
          ],
          "name": "stdout"
        }
      ]
    },
    {
      "cell_type": "code",
      "metadata": {
        "colab": {
          "base_uri": "https://localhost:8080/"
        },
        "id": "TM10e7VLQvGp",
        "outputId": "3199d5f5-6bcb-4cad-906a-a554517d1b62"
      },
      "source": [
        "# accessing object functions\n",
        "class MyClass:\n",
        "    variable = \"blah\"\n",
        "\n",
        "    def function(self):\n",
        "        print(\"This is a message inside the class.\")\n",
        "\n",
        "myobjectx = MyClass()\n",
        "\n",
        "myobjectx.function()"
      ],
      "execution_count": 87,
      "outputs": [
        {
          "output_type": "stream",
          "text": [
            "This is a message inside the class.\n"
          ],
          "name": "stdout"
        }
      ]
    },
    {
      "cell_type": "code",
      "metadata": {
        "colab": {
          "base_uri": "https://localhost:8080/"
        },
        "id": "AEmBaPU6Q8Zm",
        "outputId": "fe34a496-2747-4780-e65b-0c74c21e520c"
      },
      "source": [
        "# Exercise\n",
        "# define the Vehicle class\n",
        "class Vehicle:\n",
        "    name = \"\"\n",
        "    kind = \"car\"\n",
        "    color = \"\"\n",
        "    value = 100.00\n",
        "    def description(self):\n",
        "        desc_str = \"%s is a %s %s worth $%.2f.\" % (self.name, self.color, self.kind, self.value)\n",
        "        return desc_str\n",
        "# your code goes here\n",
        "car1 = Vehicle()\n",
        "car1.name = \"Fer\"\n",
        "car1.kind = \"convertible\"\n",
        "car1.color = \"red\"\n",
        "car1.value = 60000.00\n",
        "\n",
        "car2 = Vehicle()\n",
        "car2.name = \"Jump\"\n",
        "car2.kind = \"van\"\n",
        "car2.color = \"blue\"\n",
        "car2.value = 10000.00\n",
        "\n",
        "# test code\n",
        "print(car1.description())\n",
        "print(car2.description())"
      ],
      "execution_count": 92,
      "outputs": [
        {
          "output_type": "stream",
          "text": [
            "Fer is a red convertible worth $60000.00.\n",
            "Jump is a blue van worth $10000.00.\n"
          ],
          "name": "stdout"
        }
      ]
    },
    {
      "cell_type": "markdown",
      "metadata": {
        "id": "jSx6KkQgSDEs"
      },
      "source": [
        "# Dictionaries"
      ]
    },
    {
      "cell_type": "code",
      "metadata": {
        "colab": {
          "base_uri": "https://localhost:8080/"
        },
        "id": "ApL1-v74RDiI",
        "outputId": "ea43b3af-5aea-4719-fa4f-59fad7914ccf"
      },
      "source": [
        "phonebook = {}\n",
        "phonebook[\"John\"] = 938477566\n",
        "phonebook[\"Jack\"] = 938377264\n",
        "phonebook[\"Jill\"] = 947662781\n",
        "print(phonebook)"
      ],
      "execution_count": 93,
      "outputs": [
        {
          "output_type": "stream",
          "text": [
            "{'John': 938477566, 'Jack': 938377264, 'Jill': 947662781}\n"
          ],
          "name": "stdout"
        }
      ]
    },
    {
      "cell_type": "code",
      "metadata": {
        "colab": {
          "base_uri": "https://localhost:8080/"
        },
        "id": "X4cmlNVCSMuy",
        "outputId": "7f4a0ab3-21a5-4a8c-b8d0-cb2e1c434c71"
      },
      "source": [
        "phonebook = {\n",
        "    \"John\" : 938477566,\n",
        "    \"Jack\" : 938377264,\n",
        "    \"Jill\" : 947662781\n",
        "}\n",
        "print(phonebook)"
      ],
      "execution_count": 94,
      "outputs": [
        {
          "output_type": "stream",
          "text": [
            "{'John': 938477566, 'Jack': 938377264, 'Jill': 947662781}\n"
          ],
          "name": "stdout"
        }
      ]
    },
    {
      "cell_type": "code",
      "metadata": {
        "colab": {
          "base_uri": "https://localhost:8080/"
        },
        "id": "l_vQIezRSrkA",
        "outputId": "c76e7ef3-43ed-4e4a-c5ad-2cbde389aa68"
      },
      "source": [
        "# iterating over dictionaries\n",
        "phonebook = {\"John\" : 938477566,\"Jack\" : 938377264,\"Jill\" : 947662781}\n",
        "for name, number in phonebook.items():\n",
        "    print(\"Phone number of %s is %d\" % (name, number))"
      ],
      "execution_count": 95,
      "outputs": [
        {
          "output_type": "stream",
          "text": [
            "Phone number of John is 938477566\n",
            "Phone number of Jack is 938377264\n",
            "Phone number of Jill is 947662781\n"
          ],
          "name": "stdout"
        }
      ]
    },
    {
      "cell_type": "code",
      "metadata": {
        "colab": {
          "base_uri": "https://localhost:8080/"
        },
        "id": "vpqtVP5DSw0x",
        "outputId": "d8cf03ef-8294-4947-e372-4b64bba449b4"
      },
      "source": [
        "# removing a value\n",
        "phonebook = {\n",
        "   \"John\" : 938477566,\n",
        "   \"Jack\" : 938377264,\n",
        "   \"Jill\" : 947662781\n",
        "}\n",
        "del phonebook[\"John\"]\n",
        "print(phonebook)"
      ],
      "execution_count": 96,
      "outputs": [
        {
          "output_type": "stream",
          "text": [
            "{'Jack': 938377264, 'Jill': 947662781}\n"
          ],
          "name": "stdout"
        }
      ]
    },
    {
      "cell_type": "code",
      "metadata": {
        "colab": {
          "base_uri": "https://localhost:8080/"
        },
        "id": "W0W5DTs6S58j",
        "outputId": "a33ccf05-4223-48f0-9be5-4c9aebef20a6"
      },
      "source": [
        "phonebook = {\n",
        "   \"John\" : 938477566,\n",
        "   \"Jack\" : 938377264,\n",
        "   \"Jill\" : 947662781\n",
        "}\n",
        "phonebook.pop(\"John\")\n",
        "print(phonebook)"
      ],
      "execution_count": 97,
      "outputs": [
        {
          "output_type": "stream",
          "text": [
            "{'Jack': 938377264, 'Jill': 947662781}\n"
          ],
          "name": "stdout"
        }
      ]
    },
    {
      "cell_type": "code",
      "metadata": {
        "colab": {
          "base_uri": "https://localhost:8080/"
        },
        "id": "oDDWdm6kS9dl",
        "outputId": "9f941e14-8f25-4f25-813c-a5b2ddb6ad6d"
      },
      "source": [
        "# Exercise\n",
        "phonebook = {\n",
        "    \"John\" : 938477566,\n",
        "    \"Jack\" : 938377264,\n",
        "    \"Jill\" : 947662781\n",
        "}\n",
        "\n",
        "# write your code here\n",
        "phonebook[\"Jake\"] = 938273443\n",
        "del phonebook[\"Jill\"]\n",
        "\n",
        "# testing code\n",
        "if \"Jake\" in phonebook:\n",
        "    print(\"Jake is listed in the phonebook.\")\n",
        "if \"Jill\" not in phonebook:\n",
        "    print(\"Jill is not listed in the phonebook.\")"
      ],
      "execution_count": 98,
      "outputs": [
        {
          "output_type": "stream",
          "text": [
            "Jake is listed in the phonebook.\n",
            "Jill is not listed in the phonebook.\n"
          ],
          "name": "stdout"
        }
      ]
    },
    {
      "cell_type": "markdown",
      "metadata": {
        "id": "nPAUm6B0TgXA"
      },
      "source": [
        "# Modules and Packages"
      ]
    },
    {
      "cell_type": "code",
      "metadata": {
        "id": "vgvn81UMTZUc"
      },
      "source": [
        "# this section did not work outside of the tutorial environment"
      ],
      "execution_count": 102,
      "outputs": []
    },
    {
      "cell_type": "markdown",
      "metadata": {
        "id": "fHlsSgU_VnU5"
      },
      "source": [
        "================================================================= \n",
        " \n",
        "=================================================================\n",
        "\n"
      ]
    },
    {
      "cell_type": "markdown",
      "metadata": {
        "id": "Tk8au3kxVhVk"
      },
      "source": [
        "# Numpy Arrays"
      ]
    },
    {
      "cell_type": "code",
      "metadata": {
        "id": "U_H67qHjT1IN"
      },
      "source": [
        "# Create 2 new lists height and weight\n",
        "height = [1.87,  1.87, 1.82, 1.91, 1.90, 1.85]\n",
        "weight = [81.65, 97.52, 95.25, 92.98, 86.18, 88.45]\n",
        "\n",
        "# Import the numpy package as np\n",
        "import numpy as np\n",
        "\n",
        "# Create 2 numpy arrays from height and weight\n",
        "np_height = np.array(height)\n",
        "np_weight = np.array(weight)"
      ],
      "execution_count": 1,
      "outputs": []
    },
    {
      "cell_type": "code",
      "metadata": {
        "colab": {
          "base_uri": "https://localhost:8080/"
        },
        "id": "tqLalNfYvIfb",
        "outputId": "4fe30f54-2fd5-457d-e59c-fab01b78c3bf"
      },
      "source": [
        "print(type(np_height))"
      ],
      "execution_count": 2,
      "outputs": [
        {
          "output_type": "stream",
          "text": [
            "<class 'numpy.ndarray'>\n"
          ],
          "name": "stdout"
        }
      ]
    },
    {
      "cell_type": "code",
      "metadata": {
        "colab": {
          "base_uri": "https://localhost:8080/"
        },
        "id": "ew11jvIavN0r",
        "outputId": "4b909543-2506-4eba-a965-ba1eebbe937a"
      },
      "source": [
        "# element-wise calculations\n",
        "\n",
        "# Calculate bmi\n",
        "bmi = np_weight / np_height ** 2\n",
        "\n",
        "# Print the result\n",
        "print(bmi)"
      ],
      "execution_count": 4,
      "outputs": [
        {
          "output_type": "stream",
          "text": [
            "[23.34925219 27.88755755 28.75558507 25.48723993 23.87257618 25.84368152]\n"
          ],
          "name": "stdout"
        }
      ]
    },
    {
      "cell_type": "code",
      "metadata": {
        "colab": {
          "base_uri": "https://localhost:8080/"
        },
        "id": "mi4JRqWYvScF",
        "outputId": "f24de672-a9c6-45b7-ac9d-7e66f6a9ce0b"
      },
      "source": [
        "# subsetting\n",
        "\n",
        "# For a boolean response\n",
        "bmi > 23\n",
        "\n",
        "# Print only those observations above 23\n",
        "bmi[bmi > 23]"
      ],
      "execution_count": 5,
      "outputs": [
        {
          "output_type": "execute_result",
          "data": {
            "text/plain": [
              "array([23.34925219, 27.88755755, 28.75558507, 25.48723993, 23.87257618,\n",
              "       25.84368152])"
            ]
          },
          "metadata": {
            "tags": []
          },
          "execution_count": 5
        }
      ]
    },
    {
      "cell_type": "code",
      "metadata": {
        "colab": {
          "base_uri": "https://localhost:8080/"
        },
        "id": "DMc3J7uNveP3",
        "outputId": "1dd86118-f725-4c27-d755-b58fec496b32"
      },
      "source": [
        "# Exercise\n",
        "\n",
        "weight_kg = [81.65, 97.52, 95.25, 92.98, 86.18, 88.45]\n",
        "\n",
        "import numpy as np\n",
        "\n",
        "# Create a numpy array np_weight_kg from weight_kg\n",
        "np_weight_kg = np.array(weight_kg)\n",
        "\n",
        "# Create np_weight_lbs from np_weight_kg\n",
        "np_weight_lbs = np_weight_kg * 2.2\n",
        "\n",
        "# Print out np_weight_lbs\n",
        "print(np_weight_lbs)"
      ],
      "execution_count": 8,
      "outputs": [
        {
          "output_type": "stream",
          "text": [
            "[179.63  214.544 209.55  204.556 189.596 194.59 ]\n"
          ],
          "name": "stdout"
        }
      ]
    },
    {
      "cell_type": "markdown",
      "metadata": {
        "id": "6NTAUH53wN_o"
      },
      "source": [
        "# Pandas Basics"
      ]
    },
    {
      "cell_type": "code",
      "metadata": {
        "colab": {
          "base_uri": "https://localhost:8080/"
        },
        "id": "5r2Js5Njv3SW",
        "outputId": "c47f91b0-5687-4392-e182-c5d9a29a0f3a"
      },
      "source": [
        "# Pandas DataFrames\n",
        "\n",
        "dict = {\"country\": [\"Brazil\", \"Russia\", \"India\", \"China\", \"South Africa\"],\n",
        "       \"capital\": [\"Brasilia\", \"Moscow\", \"New Dehli\", \"Beijing\", \"Pretoria\"],\n",
        "       \"area\": [8.516, 17.10, 3.286, 9.597, 1.221],\n",
        "       \"population\": [200.4, 143.5, 1252, 1357, 52.98] }\n",
        "\n",
        "import pandas as pd\n",
        "brics = pd.DataFrame(dict)\n",
        "print(brics)"
      ],
      "execution_count": 9,
      "outputs": [
        {
          "output_type": "stream",
          "text": [
            "        country    capital    area  population\n",
            "0        Brazil   Brasilia   8.516      200.40\n",
            "1        Russia     Moscow  17.100      143.50\n",
            "2         India  New Dehli   3.286     1252.00\n",
            "3         China    Beijing   9.597     1357.00\n",
            "4  South Africa   Pretoria   1.221       52.98\n"
          ],
          "name": "stdout"
        }
      ]
    },
    {
      "cell_type": "code",
      "metadata": {
        "colab": {
          "base_uri": "https://localhost:8080/"
        },
        "id": "WGrF-dfqwdaJ",
        "outputId": "1c75d699-faea-4ebc-cb71-b5a218c60444"
      },
      "source": [
        "# Set the index for brics\n",
        "brics.index = [\"BR\", \"RU\", \"IN\", \"CH\", \"SA\"]\n",
        "\n",
        "# Print out brics with new index values\n",
        "print(brics)"
      ],
      "execution_count": 10,
      "outputs": [
        {
          "output_type": "stream",
          "text": [
            "         country    capital    area  population\n",
            "BR        Brazil   Brasilia   8.516      200.40\n",
            "RU        Russia     Moscow  17.100      143.50\n",
            "IN         India  New Dehli   3.286     1252.00\n",
            "CH         China    Beijing   9.597     1357.00\n",
            "SA  South Africa   Pretoria   1.221       52.98\n"
          ],
          "name": "stdout"
        }
      ]
    },
    {
      "cell_type": "code",
      "metadata": {
        "id": "DUEQy7v1woqj"
      },
      "source": [
        "# Import pandas as pd\n",
        "import pandas as pd\n",
        "\n",
        "# Import the cars.csv data: cars\n",
        "# csv file not localy available will throw ERROR\n",
        "cars = pd.read_csv('cars.csv')\n",
        "\n",
        "# Print out cars\n",
        "print(cars)"
      ],
      "execution_count": 11,
      "outputs": []
    },
    {
      "cell_type": "code",
      "metadata": {
        "id": "I8QZQVpcwuXI"
      },
      "source": [
        "# Import pandas and cars.csv\n",
        "import pandas as pd\n",
        "\n",
        "# csv file not localy available will throw ERROR\n",
        "cars = pd.read_csv('cars.csv', index_col = 0)\n",
        "\n",
        "# Print out country column as Pandas Series\n",
        "print(cars['cars_per_cap'])\n",
        "\n",
        "# Print out country column as Pandas DataFrame\n",
        "print(cars[['cars_per_cap']])\n",
        "\n",
        "# Print out DataFrame with country and drives_right columns\n",
        "print(cars[['cars_per_cap', 'country']])"
      ],
      "execution_count": null,
      "outputs": []
    },
    {
      "cell_type": "code",
      "metadata": {
        "id": "ojy-m3__xJE-"
      },
      "source": [
        "# Import cars data\n",
        "import pandas as pd\n",
        "\n",
        "# csv file not localy available will throw ERROR\n",
        "cars = pd.read_csv('cars.csv', index_col = 0)\n",
        "\n",
        "# Print out first 4 observations\n",
        "print(cars[0:4])\n",
        "\n",
        "# Print out fifth and sixth observation\n",
        "print(cars[4:6])"
      ],
      "execution_count": null,
      "outputs": []
    },
    {
      "cell_type": "code",
      "metadata": {
        "id": "RzWooF6cxORy"
      },
      "source": [
        "# Import cars data\n",
        "import pandas as pd\n",
        "cars = pd.read_csv('cars.csv', index_col = 0)\n",
        "\n",
        "# Print out observation for Japan\n",
        "print(cars.iloc[2])\n",
        "\n",
        "# Print out observations for Australia and Egypt\n",
        "print(cars.loc[['AUS', 'EG']])"
      ],
      "execution_count": null,
      "outputs": []
    },
    {
      "cell_type": "markdown",
      "metadata": {
        "id": "_ykwl1XTxmUS"
      },
      "source": [
        "# Generators"
      ]
    },
    {
      "cell_type": "code",
      "metadata": {
        "colab": {
          "base_uri": "https://localhost:8080/"
        },
        "id": "Mx_ymEGSxaGG",
        "outputId": "9cd49a1f-a47d-477a-ab33-98d44024d621"
      },
      "source": [
        "import random\n",
        "\n",
        "def lottery():\n",
        "    # returns 6 numbers between 1 and 40\n",
        "    for i in range(6):\n",
        "        yield random.randint(1, 40)\n",
        "\n",
        "    # returns a 7th number between 1 and 15\n",
        "    yield random.randint(1,15)\n",
        "\n",
        "for random_number in lottery():\n",
        "       print(\"And the next number is... %d!\" %(random_number))"
      ],
      "execution_count": 12,
      "outputs": [
        {
          "output_type": "stream",
          "text": [
            "And the next number is... 39!\n",
            "And the next number is... 40!\n",
            "And the next number is... 25!\n",
            "And the next number is... 1!\n",
            "And the next number is... 2!\n",
            "And the next number is... 8!\n",
            "And the next number is... 7!\n"
          ],
          "name": "stdout"
        }
      ]
    },
    {
      "cell_type": "code",
      "metadata": {
        "colab": {
          "base_uri": "https://localhost:8080/"
        },
        "id": "gRxDXm6ZyHzG",
        "outputId": "1cd24071-807d-4874-c27f-c4606c90aea6"
      },
      "source": [
        "# Exercise\n",
        "\n",
        "a = 1\n",
        "b = 2\n",
        "a, b = b, a\n",
        "print(a,b)"
      ],
      "execution_count": 14,
      "outputs": [
        {
          "output_type": "stream",
          "text": [
            "2 1\n"
          ],
          "name": "stdout"
        }
      ]
    },
    {
      "cell_type": "code",
      "metadata": {
        "colab": {
          "base_uri": "https://localhost:8080/"
        },
        "id": "YoLNUO97yex6",
        "outputId": "914e7180-1354-41fd-b156-32551246b2b8"
      },
      "source": [
        "# fill in this function\n",
        "def fib():\n",
        "    a, b = 1, 1\n",
        "    while 1:\n",
        "      yield a\n",
        "      a, b = b, a + b\n",
        "\n",
        "# testing code\n",
        "import types\n",
        "if type(fib()) == types.GeneratorType:\n",
        "    print(\"Good, The fib function is a generator.\")\n",
        "\n",
        "    counter = 0\n",
        "    for n in fib():\n",
        "        print(n)\n",
        "        counter += 1\n",
        "        if counter == 11:\n",
        "            break"
      ],
      "execution_count": 17,
      "outputs": [
        {
          "output_type": "stream",
          "text": [
            "Good, The fib function is a generator.\n",
            "1\n",
            "1\n",
            "2\n",
            "3\n",
            "5\n",
            "8\n",
            "13\n",
            "21\n",
            "34\n",
            "55\n",
            "89\n"
          ],
          "name": "stdout"
        }
      ]
    },
    {
      "cell_type": "markdown",
      "metadata": {
        "id": "H1nC7CVmznO3"
      },
      "source": [
        "# List Comprehensions"
      ]
    },
    {
      "cell_type": "code",
      "metadata": {
        "colab": {
          "base_uri": "https://localhost:8080/"
        },
        "id": "WnHqE2ynyvgN",
        "outputId": "50bd6b4b-dece-48ff-84c9-607efd99f031"
      },
      "source": [
        "sentence = \"the quick brown fox jumps over the lazy dog\"\n",
        "words = sentence.split()\n",
        "word_lengths = []\n",
        "for word in words:\n",
        "      if word != \"the\":\n",
        "          word_lengths.append(len(word))\n",
        "print(words)\n",
        "print(word_lengths)"
      ],
      "execution_count": 18,
      "outputs": [
        {
          "output_type": "stream",
          "text": [
            "['the', 'quick', 'brown', 'fox', 'jumps', 'over', 'the', 'lazy', 'dog']\n",
            "[5, 5, 3, 5, 4, 4, 3]\n"
          ],
          "name": "stdout"
        }
      ]
    },
    {
      "cell_type": "code",
      "metadata": {
        "colab": {
          "base_uri": "https://localhost:8080/"
        },
        "id": "HVTB6KWA0IBD",
        "outputId": "ed7e28d2-8c82-4768-a4dd-925c56b5c6e8"
      },
      "source": [
        "sentence = \"the quick brown fox jumps over the lazy dog\"\n",
        "words = sentence.split()\n",
        "word_lengths = [len(word) for word in words if word != \"the\"]\n",
        "print(words)\n",
        "print(word_lengths)"
      ],
      "execution_count": 19,
      "outputs": [
        {
          "output_type": "stream",
          "text": [
            "['the', 'quick', 'brown', 'fox', 'jumps', 'over', 'the', 'lazy', 'dog']\n",
            "[5, 5, 3, 5, 4, 4, 3]\n"
          ],
          "name": "stdout"
        }
      ]
    },
    {
      "cell_type": "code",
      "metadata": {
        "colab": {
          "base_uri": "https://localhost:8080/"
        },
        "id": "7_Cn1OBQ0OtY",
        "outputId": "e9c59679-4202-4411-d9ed-07e575b057eb"
      },
      "source": [
        "numbers = [34.6, -203.4, 44.9, 68.3, -12.2, 44.6, 12.7]\n",
        "newlist = [number for number in numbers if number > 0]\n",
        "print(newlist)"
      ],
      "execution_count": 20,
      "outputs": [
        {
          "output_type": "stream",
          "text": [
            "[34.6, 44.9, 68.3, 44.6, 12.7]\n"
          ],
          "name": "stdout"
        }
      ]
    },
    {
      "cell_type": "markdown",
      "metadata": {
        "id": "6k1DMSvR0u90"
      },
      "source": [
        "# Multiple Function Arguments"
      ]
    },
    {
      "cell_type": "code",
      "metadata": {
        "colab": {
          "base_uri": "https://localhost:8080/"
        },
        "id": "SkwX6rwt0mIk",
        "outputId": "43c2989f-9e87-4973-e100-142cf3305508"
      },
      "source": [
        "def foo(first, second, third, *therest):\n",
        "    print(\"First: %s\" %(first))\n",
        "    print(\"Second: %s\" %(second))\n",
        "    print(\"Third: %s\" %(third))\n",
        "    print(\"And all the rest... %s\" %(list(therest)))\n",
        "\n",
        "foo(1,2,3,4,5)"
      ],
      "execution_count": 21,
      "outputs": [
        {
          "output_type": "stream",
          "text": [
            "First: 1\n",
            "Second: 2\n",
            "Third: 3\n",
            "And all the rest... [4, 5]\n"
          ],
          "name": "stdout"
        }
      ]
    },
    {
      "cell_type": "code",
      "metadata": {
        "colab": {
          "base_uri": "https://localhost:8080/"
        },
        "id": "u3YfXhsv1Bsc",
        "outputId": "76b2c5c9-bc0a-4f7e-a76d-f92cef50628d"
      },
      "source": [
        "# keyword arguments\n",
        "def bar(first, second, third, **options):\n",
        "    if options.get(\"action\") == \"sum\":\n",
        "        print(\"The sum is: %d\" %(first + second + third))\n",
        "\n",
        "    if options.get(\"number\") == \"first\":\n",
        "        return first\n",
        "\n",
        "result = bar(1, 2, 3, action = \"sum\", number = \"first\")\n",
        "print(\"Result: %d\" %(result))"
      ],
      "execution_count": 22,
      "outputs": [
        {
          "output_type": "stream",
          "text": [
            "The sum is: 6\n",
            "Result: 1\n"
          ],
          "name": "stdout"
        }
      ]
    },
    {
      "cell_type": "code",
      "metadata": {
        "colab": {
          "base_uri": "https://localhost:8080/"
        },
        "id": "RjbtIQRI1L8g",
        "outputId": "1e072271-7116-4dab-ec26-15bfb90b93f9"
      },
      "source": [
        "# Exercise\n",
        "\n",
        "# edit the functions prototype and implementation\n",
        "def foo(a, b, c, *args):\n",
        "    return len(args)\n",
        "\n",
        "def bar(a, b, c, **kwargs):\n",
        "    return kwargs[\"magicnumber\"] == 7\n",
        "\n",
        "\n",
        "# test code\n",
        "if foo(1,2,3,4) == 1:\n",
        "    print(\"Good.\")\n",
        "if foo(1,2,3,4,5) == 2:\n",
        "    print(\"Better.\")\n",
        "if bar(1,2,3,magicnumber = 6) == False:\n",
        "    print(\"Great.\")\n",
        "if bar(1,2,3,magicnumber = 7) == True:\n",
        "    print(\"Awesome!\")"
      ],
      "execution_count": 23,
      "outputs": [
        {
          "output_type": "stream",
          "text": [
            "Good.\n",
            "Better.\n",
            "Great.\n",
            "Awesome!\n"
          ],
          "name": "stdout"
        }
      ]
    },
    {
      "cell_type": "markdown",
      "metadata": {
        "id": "Qrs5WMXx14_E"
      },
      "source": [
        "# Regular Expresions"
      ]
    },
    {
      "cell_type": "code",
      "metadata": {
        "colab": {
          "base_uri": "https://localhost:8080/"
        },
        "id": "sgcknDdC12Xu",
        "outputId": "698b3cf2-e574-44dc-cb85-e6d853f12d59"
      },
      "source": [
        "# Example: \n",
        "import re\n",
        "pattern = re.compile(r\"\\[(on|off)\\]\") # Slight optimization\n",
        "print(re.search(pattern, \"Mono: Playback 65 [75%] [-16.50dB] [on]\"))\n",
        "# Returns a Match object!\n",
        "print(re.search(pattern, \"Nada...:-(\"))\n",
        "# Doesn't return anything.\n",
        "# End Example\n",
        "\n",
        "# Exercise: make a regular expression that will match an email\n",
        "def test_email(your_pattern):\n",
        "    pattern = re.compile(your_pattern)\n",
        "    emails = [\"john@example.com\", \"python-list@python.org\", \"wha.t.`1an?ug{}ly@email.com\"]\n",
        "    for email in emails:\n",
        "        if not re.match(pattern, email):\n",
        "            print(\"You failed to match %s\" % (email))\n",
        "        elif not your_pattern:\n",
        "            print(\"Forgot to enter a pattern!\")\n",
        "        else:\n",
        "            print(\"Pass\")\n",
        "pattern = r\"\" # Your pattern here!\n",
        "test_email(pattern)"
      ],
      "execution_count": 24,
      "outputs": [
        {
          "output_type": "stream",
          "text": [
            "<_sre.SRE_Match object; span=(35, 39), match='[on]'>\n",
            "None\n",
            "Forgot to enter a pattern!\n",
            "Forgot to enter a pattern!\n",
            "Forgot to enter a pattern!\n"
          ],
          "name": "stdout"
        }
      ]
    },
    {
      "cell_type": "markdown",
      "metadata": {
        "id": "-I-vfDw92jTR"
      },
      "source": [
        "# Exception Handling"
      ]
    },
    {
      "cell_type": "code",
      "metadata": {
        "colab": {
          "base_uri": "https://localhost:8080/"
        },
        "id": "rgG_-UmH2ml7",
        "outputId": "8eb36514-673f-4d48-8c0f-7b0a403d8538"
      },
      "source": [
        "def do_stuff_with_number(n):\n",
        "    print(n)\n",
        "\n",
        "def catch_this():\n",
        "    the_list = (1, 2, 3, 4, 5)\n",
        "\n",
        "    for i in range(20):\n",
        "        try:\n",
        "            do_stuff_with_number(the_list[i])\n",
        "        except IndexError: # Raised when accessing a non-existing index of a list\n",
        "            do_stuff_with_number(0)\n",
        "\n",
        "catch_this()"
      ],
      "execution_count": 26,
      "outputs": [
        {
          "output_type": "stream",
          "text": [
            "1\n",
            "2\n",
            "3\n",
            "4\n",
            "5\n",
            "0\n",
            "0\n",
            "0\n",
            "0\n",
            "0\n",
            "0\n",
            "0\n",
            "0\n",
            "0\n",
            "0\n",
            "0\n",
            "0\n",
            "0\n",
            "0\n",
            "0\n"
          ],
          "name": "stdout"
        }
      ]
    },
    {
      "cell_type": "code",
      "metadata": {
        "colab": {
          "base_uri": "https://localhost:8080/"
        },
        "id": "x7RWppLl2wKe",
        "outputId": "0156dd1a-f735-40e1-b5e1-84eb52ec10d0"
      },
      "source": [
        "# Exercise\n",
        "\n",
        "# Setup\n",
        "actor = {\"name\": \"John Cleese\", \"rank\": \"awesome\"}\n",
        "\n",
        "# Function to modify!!!\n",
        "def get_last_name(): \n",
        "    return actor[\"name\"].split()[1]\n",
        "\n",
        "# Test code\n",
        "get_last_name()\n",
        "print(\"All exceptions caught! Good job!\")\n",
        "print(\"The actor's last name is %s\" % get_last_name())"
      ],
      "execution_count": 28,
      "outputs": [
        {
          "output_type": "stream",
          "text": [
            "All exceptions caught! Good job!\n",
            "The actor's last name is Cleese\n"
          ],
          "name": "stdout"
        }
      ]
    },
    {
      "cell_type": "markdown",
      "metadata": {
        "id": "gkUbcHfr3qsu"
      },
      "source": [
        "# Sets"
      ]
    },
    {
      "cell_type": "code",
      "metadata": {
        "colab": {
          "base_uri": "https://localhost:8080/"
        },
        "id": "APgLfEoI3Qid",
        "outputId": "1c2a436b-f317-48d4-e44a-c32d6a51c5b6"
      },
      "source": [
        "print(set(\"my name is Eric and Eric is my name\".split()))"
      ],
      "execution_count": 29,
      "outputs": [
        {
          "output_type": "stream",
          "text": [
            "{'my', 'name', 'Eric', 'and', 'is'}\n"
          ],
          "name": "stdout"
        }
      ]
    },
    {
      "cell_type": "code",
      "metadata": {
        "colab": {
          "base_uri": "https://localhost:8080/"
        },
        "id": "axlQ_HCx3vN-",
        "outputId": "95e35ef4-acda-4f00-fa24-6c1923b5f885"
      },
      "source": [
        "a = set([\"Jake\", \"John\", \"Eric\"])\n",
        "print(a)\n",
        "b = set([\"John\", \"Jill\"])\n",
        "print(b)"
      ],
      "execution_count": 30,
      "outputs": [
        {
          "output_type": "stream",
          "text": [
            "{'John', 'Eric', 'Jake'}\n",
            "{'John', 'Jill'}\n"
          ],
          "name": "stdout"
        }
      ]
    },
    {
      "cell_type": "code",
      "metadata": {
        "colab": {
          "base_uri": "https://localhost:8080/"
        },
        "id": "jXx1NjvH37yX",
        "outputId": "36f400ab-9f0e-4b9d-83ad-693f424913b8"
      },
      "source": [
        "a = set([\"Jake\", \"John\", \"Eric\"])\n",
        "b = set([\"John\", \"Jill\"])\n",
        "\n",
        "print(a.intersection(b))\n",
        "print(b.intersection(a))"
      ],
      "execution_count": 31,
      "outputs": [
        {
          "output_type": "stream",
          "text": [
            "{'John'}\n",
            "{'John'}\n"
          ],
          "name": "stdout"
        }
      ]
    },
    {
      "cell_type": "code",
      "metadata": {
        "colab": {
          "base_uri": "https://localhost:8080/"
        },
        "id": "REfy9jI33_uF",
        "outputId": "df87c43f-3fea-405a-a8fd-bdc2054fd4f2"
      },
      "source": [
        "a = set([\"Jake\", \"John\", \"Eric\"])\n",
        "b = set([\"John\", \"Jill\"])\n",
        "\n",
        "print(a.symmetric_difference(b))\n",
        "print(b.symmetric_difference(a))"
      ],
      "execution_count": 32,
      "outputs": [
        {
          "output_type": "stream",
          "text": [
            "{'Jake', 'Jill', 'Eric'}\n",
            "{'Eric', 'Jill', 'Jake'}\n"
          ],
          "name": "stdout"
        }
      ]
    },
    {
      "cell_type": "code",
      "metadata": {
        "colab": {
          "base_uri": "https://localhost:8080/"
        },
        "id": "sJYLI_2d4DRi",
        "outputId": "fd7d7e46-2066-4a62-ec3a-e5adb0f042d6"
      },
      "source": [
        "a = set([\"Jake\", \"John\", \"Eric\"])\n",
        "b = set([\"John\", \"Jill\"])\n",
        "\n",
        "print(a.difference(b))\n",
        "print(b.difference(a))"
      ],
      "execution_count": 33,
      "outputs": [
        {
          "output_type": "stream",
          "text": [
            "{'Jake', 'Eric'}\n",
            "{'Jill'}\n"
          ],
          "name": "stdout"
        }
      ]
    },
    {
      "cell_type": "code",
      "metadata": {
        "colab": {
          "base_uri": "https://localhost:8080/"
        },
        "id": "p9vjhkx_4H1O",
        "outputId": "b1226052-5865-4997-caa5-647f8ea66932"
      },
      "source": [
        "a = set([\"Jake\", \"John\", \"Eric\"])\n",
        "b = set([\"John\", \"Jill\"])\n",
        "\n",
        "print(a.union(b))"
      ],
      "execution_count": 34,
      "outputs": [
        {
          "output_type": "stream",
          "text": [
            "{'John', 'Jill', 'Jake', 'Eric'}\n"
          ],
          "name": "stdout"
        }
      ]
    },
    {
      "cell_type": "code",
      "metadata": {
        "colab": {
          "base_uri": "https://localhost:8080/"
        },
        "id": "UTUQEvzY4LCW",
        "outputId": "0117814a-5af4-4512-e25b-ce5c0c538a0a"
      },
      "source": [
        "# Exercise\n",
        "\n",
        "a = [\"Jake\", \"John\", \"Eric\"]\n",
        "b = [\"John\", \"Jill\"]\n",
        "\n",
        "A = set(a)\n",
        "B = set(b)\n",
        "\n",
        "print(A.difference(B))"
      ],
      "execution_count": 35,
      "outputs": [
        {
          "output_type": "stream",
          "text": [
            "{'Jake', 'Eric'}\n"
          ],
          "name": "stdout"
        }
      ]
    },
    {
      "cell_type": "markdown",
      "metadata": {
        "id": "x3VuCjgf4jMR"
      },
      "source": [
        "# Serialization"
      ]
    },
    {
      "cell_type": "code",
      "metadata": {
        "id": "RTQeokG74abu"
      },
      "source": [
        "import json"
      ],
      "execution_count": 36,
      "outputs": []
    },
    {
      "cell_type": "code",
      "metadata": {
        "colab": {
          "base_uri": "https://localhost:8080/",
          "height": 215
        },
        "id": "DZwkrrIR4tbX",
        "outputId": "c41f5c35-ffbd-45f3-a36a-6495e47a1e38"
      },
      "source": [
        "import json \n",
        "print(json.loads(json_string))"
      ],
      "execution_count": 37,
      "outputs": [
        {
          "output_type": "error",
          "ename": "NameError",
          "evalue": "ignored",
          "traceback": [
            "\u001b[0;31m---------------------------------------------------------------------------\u001b[0m",
            "\u001b[0;31mNameError\u001b[0m                                 Traceback (most recent call last)",
            "\u001b[0;32m<ipython-input-37-bf2e1c2b4ae1>\u001b[0m in \u001b[0;36m<module>\u001b[0;34m()\u001b[0m\n\u001b[1;32m      1\u001b[0m \u001b[0;32mimport\u001b[0m \u001b[0mjson\u001b[0m\u001b[0;34m\u001b[0m\u001b[0;34m\u001b[0m\u001b[0m\n\u001b[0;32m----> 2\u001b[0;31m \u001b[0mprint\u001b[0m\u001b[0;34m(\u001b[0m\u001b[0mjson\u001b[0m\u001b[0;34m.\u001b[0m\u001b[0mloads\u001b[0m\u001b[0;34m(\u001b[0m\u001b[0mjson_string\u001b[0m\u001b[0;34m)\u001b[0m\u001b[0;34m)\u001b[0m\u001b[0;34m\u001b[0m\u001b[0;34m\u001b[0m\u001b[0m\n\u001b[0m",
            "\u001b[0;31mNameError\u001b[0m: name 'json_string' is not defined"
          ]
        }
      ]
    },
    {
      "cell_type": "code",
      "metadata": {
        "colab": {
          "base_uri": "https://localhost:8080/"
        },
        "id": "BiXi5jPq48U8",
        "outputId": "1468e586-9d67-4372-fa07-3e81be01776e"
      },
      "source": [
        "import json\n",
        "json_string = json.dumps([1, 2, 3, \"a\", \"b\", \"c\"])\n",
        "print(json_string)"
      ],
      "execution_count": 38,
      "outputs": [
        {
          "output_type": "stream",
          "text": [
            "[1, 2, 3, \"a\", \"b\", \"c\"]\n"
          ],
          "name": "stdout"
        }
      ]
    },
    {
      "cell_type": "code",
      "metadata": {
        "colab": {
          "base_uri": "https://localhost:8080/"
        },
        "id": "-9q5r55y4_Vr",
        "outputId": "4db7ccad-1e5f-4a21-d138-d1b1694765e3"
      },
      "source": [
        "import pickle\n",
        "pickled_string = pickle.dumps([1, 2, 3, \"a\", \"b\", \"c\"])\n",
        "print(pickle.loads(pickled_string))"
      ],
      "execution_count": 39,
      "outputs": [
        {
          "output_type": "stream",
          "text": [
            "[1, 2, 3, 'a', 'b', 'c']\n"
          ],
          "name": "stdout"
        }
      ]
    },
    {
      "cell_type": "code",
      "metadata": {
        "colab": {
          "base_uri": "https://localhost:8080/"
        },
        "id": "8YqXi-5K5Gy8",
        "outputId": "0859fb8f-ba2b-4603-fa40-b4d852f9b643"
      },
      "source": [
        "import json\n",
        "\n",
        "# fix this function, so it adds the given name\n",
        "# and salary pair to salaries_json, and return it\n",
        "def add_employee(salaries_json, name, salary):\n",
        "    # Add your code here\n",
        "    salaries = json.loads(salaries_json)\n",
        "    salaries[name] = salary\n",
        "\n",
        "    return json.dumps(salaries)\n",
        "\n",
        "# test code\n",
        "salaries = '{\"Alfred\" : 300, \"Jane\" : 400 }'\n",
        "new_salaries = add_employee(salaries, \"Me\", 800)\n",
        "decoded_salaries = json.loads(new_salaries)\n",
        "print(decoded_salaries[\"Alfred\"])\n",
        "print(decoded_salaries[\"Jane\"])\n",
        "print(decoded_salaries[\"Me\"])"
      ],
      "execution_count": 41,
      "outputs": [
        {
          "output_type": "stream",
          "text": [
            "300\n",
            "400\n",
            "800\n"
          ],
          "name": "stdout"
        }
      ]
    },
    {
      "cell_type": "markdown",
      "metadata": {
        "id": "bGYqTeFf5iJG"
      },
      "source": [
        "# Partial Functions"
      ]
    },
    {
      "cell_type": "code",
      "metadata": {
        "id": "3F7dNO6i5MAE"
      },
      "source": [
        "from functools import partial"
      ],
      "execution_count": 42,
      "outputs": []
    },
    {
      "cell_type": "code",
      "metadata": {
        "colab": {
          "base_uri": "https://localhost:8080/"
        },
        "id": "7x52B_Gg5shi",
        "outputId": "d77d15a1-bda9-4055-f9fd-4f7d531c54c3"
      },
      "source": [
        "from functools import partial\n",
        "\n",
        "def multiply(x,y):\n",
        "        return x * y\n",
        "\n",
        "# create a new function that multiplies by 2\n",
        "dbl = partial(multiply,2)\n",
        "print(dbl(4))"
      ],
      "execution_count": 43,
      "outputs": [
        {
          "output_type": "stream",
          "text": [
            "8\n"
          ],
          "name": "stdout"
        }
      ]
    },
    {
      "cell_type": "code",
      "metadata": {
        "colab": {
          "base_uri": "https://localhost:8080/"
        },
        "id": "twWKCT6L5z8H",
        "outputId": "1caf1c86-ddcf-4633-b870-0bc8dc6cda81"
      },
      "source": [
        "# Exercise\n",
        "\n",
        "#Following is the exercise, function provided:\n",
        "from functools import partial\n",
        "def func(u,v,w,x):\n",
        "    return u*4 + v*3 + w*2 + x\n",
        "#Enter your code here to create and print with your partial function\n",
        "p = partial(func, 5, 6, 7)\n",
        "print(p(8))"
      ],
      "execution_count": 44,
      "outputs": [
        {
          "output_type": "stream",
          "text": [
            "60\n"
          ],
          "name": "stdout"
        }
      ]
    },
    {
      "cell_type": "markdown",
      "metadata": {
        "id": "aOx2xqGP6pt1"
      },
      "source": [
        "# Code Introspection"
      ]
    },
    {
      "cell_type": "code",
      "metadata": {
        "colab": {
          "base_uri": "https://localhost:8080/"
        },
        "id": "F0pbZ3i16i01",
        "outputId": "8e26d290-2417-4f62-9d7e-f7946cc08f78"
      },
      "source": [
        "# Use the help function to see what each function does.\n",
        "# Delete this when you are done.\n",
        "help(dir)\n",
        "help(hasattr)\n",
        "help(id)\n",
        "\n",
        "# Define the Vehicle class.\n",
        "class Vehicle:\n",
        "    name = \"\"\n",
        "    kind = \"car\"\n",
        "    color = \"\"\n",
        "    value = 100.00\n",
        "    def description(self):\n",
        "        desc_str = \"%s is a %s %s worth $%.2f.\" % (self.name, self.color, self.kind, self.value)\n",
        "        return desc_str\n",
        "\n",
        "# Print a list of all attributes of the Vehicle class.\n",
        "# Your code goes here\n",
        "print(dir(Vehicle))"
      ],
      "execution_count": 47,
      "outputs": [
        {
          "output_type": "stream",
          "text": [
            "Help on built-in function dir in module builtins:\n",
            "\n",
            "dir(...)\n",
            "    dir([object]) -> list of strings\n",
            "    \n",
            "    If called without an argument, return the names in the current scope.\n",
            "    Else, return an alphabetized list of names comprising (some of) the attributes\n",
            "    of the given object, and of attributes reachable from it.\n",
            "    If the object supplies a method named __dir__, it will be used; otherwise\n",
            "    the default dir() logic is used and returns:\n",
            "      for a module object: the module's attributes.\n",
            "      for a class object:  its attributes, and recursively the attributes\n",
            "        of its bases.\n",
            "      for any other object: its attributes, its class's attributes, and\n",
            "        recursively the attributes of its class's base classes.\n",
            "\n",
            "Help on built-in function hasattr in module builtins:\n",
            "\n",
            "hasattr(obj, name, /)\n",
            "    Return whether the object has an attribute with the given name.\n",
            "    \n",
            "    This is done by calling getattr(obj, name) and catching AttributeError.\n",
            "\n",
            "Help on built-in function id in module builtins:\n",
            "\n",
            "id(obj, /)\n",
            "    Return the identity of an object.\n",
            "    \n",
            "    This is guaranteed to be unique among simultaneously existing objects.\n",
            "    (CPython uses the object's memory address.)\n",
            "\n",
            "['__class__', '__delattr__', '__dict__', '__dir__', '__doc__', '__eq__', '__format__', '__ge__', '__getattribute__', '__gt__', '__hash__', '__init__', '__init_subclass__', '__le__', '__lt__', '__module__', '__ne__', '__new__', '__reduce__', '__reduce_ex__', '__repr__', '__setattr__', '__sizeof__', '__str__', '__subclasshook__', '__weakref__', 'color', 'description', 'kind', 'name', 'value']\n"
          ],
          "name": "stdout"
        }
      ]
    },
    {
      "cell_type": "markdown",
      "metadata": {
        "id": "COJh78AJ7Nh-"
      },
      "source": [
        "# Closures"
      ]
    },
    {
      "cell_type": "code",
      "metadata": {
        "colab": {
          "base_uri": "https://localhost:8080/"
        },
        "id": "RMmBoEE97Aks",
        "outputId": "d71be51a-3e84-495b-f725-b0d200dfb12e"
      },
      "source": [
        "def transmit_to_space(message):\n",
        "    \"This is the enclosing function\"\n",
        "    def data_transmitter():\n",
        "        \"The nested function\"\n",
        "        print(message)\n",
        "\n",
        "    data_transmitter()\n",
        "\n",
        "print(transmit_to_space(\"Test message\"))"
      ],
      "execution_count": 48,
      "outputs": [
        {
          "output_type": "stream",
          "text": [
            "Test message\n",
            "None\n"
          ],
          "name": "stdout"
        }
      ]
    },
    {
      "cell_type": "code",
      "metadata": {
        "colab": {
          "base_uri": "https://localhost:8080/"
        },
        "id": "6yLg8NP37d7k",
        "outputId": "47ef75d0-df71-42a3-bf34-ba0fb65b9ee9"
      },
      "source": [
        "def print_msg(number):\n",
        "    def printer():\n",
        "        \"Here we are using the nonlocal keyword\"\n",
        "        nonlocal number\n",
        "        number=3\n",
        "        print(number)\n",
        "    printer()\n",
        "    print(number)\n",
        "\n",
        "print_msg(9)"
      ],
      "execution_count": 49,
      "outputs": [
        {
          "output_type": "stream",
          "text": [
            "3\n",
            "3\n"
          ],
          "name": "stdout"
        }
      ]
    },
    {
      "cell_type": "code",
      "metadata": {
        "id": "ielTFiF47oWG"
      },
      "source": [
        "def transmit_to_space(message):\n",
        "    \"This is the enclosing function\"\n",
        "    def data_transmitter():\n",
        "        \"The nested function\"\n",
        "        print(message)\n",
        "    return data_transmitter"
      ],
      "execution_count": 50,
      "outputs": []
    },
    {
      "cell_type": "code",
      "metadata": {
        "colab": {
          "base_uri": "https://localhost:8080/"
        },
        "id": "nl44bDKO70pm",
        "outputId": "e0321ccf-1b1d-4625-edaa-8a6c7b04cde1"
      },
      "source": [
        "def transmit_to_space(message):\n",
        "  \"This is the enclosing function\"\n",
        "  def data_transmitter():\n",
        "      \"The nested function\"\n",
        "      print(message)\n",
        "  return data_transmitter\n",
        "\n",
        "fun2 = transmit_to_space(\"Burn the Sun!\")\n",
        "fun2()"
      ],
      "execution_count": 51,
      "outputs": [
        {
          "output_type": "stream",
          "text": [
            "Burn the Sun!\n"
          ],
          "name": "stdout"
        }
      ]
    },
    {
      "cell_type": "code",
      "metadata": {
        "colab": {
          "base_uri": "https://localhost:8080/"
        },
        "id": "7M82jzNL77Kv",
        "outputId": "224ad115-f1ad-4850-e1e3-a82394631c85"
      },
      "source": [
        "# your code goes here\n",
        "def multiplier_of(n):\n",
        "    def multiplier(number):\n",
        "        return number*n\n",
        "    return multiplier\n",
        "\n",
        "multiplywith5 = multiplier_of(5)\n",
        "print(multiplywith5(9))"
      ],
      "execution_count": 52,
      "outputs": [
        {
          "output_type": "stream",
          "text": [
            "45\n"
          ],
          "name": "stdout"
        }
      ]
    },
    {
      "cell_type": "markdown",
      "metadata": {
        "id": "A1afbs8f8aAv"
      },
      "source": [
        "# Decorators"
      ]
    },
    {
      "cell_type": "code",
      "metadata": {
        "colab": {
          "base_uri": "https://localhost:8080/",
          "height": 249
        },
        "id": "XFBk5eb68T5O",
        "outputId": "3c994ec0-b965-4306-f862-fc8e1fc8f0df"
      },
      "source": [
        "# syntax\n",
        "@decorator\n",
        "def functions(arg):\n",
        "    return \"value\""
      ],
      "execution_count": 54,
      "outputs": [
        {
          "output_type": "error",
          "ename": "NameError",
          "evalue": "ignored",
          "traceback": [
            "\u001b[0;31m---------------------------------------------------------------------------\u001b[0m",
            "\u001b[0;31mNameError\u001b[0m                                 Traceback (most recent call last)",
            "\u001b[0;32m<ipython-input-54-c139b5206386>\u001b[0m in \u001b[0;36m<module>\u001b[0;34m()\u001b[0m\n\u001b[1;32m      1\u001b[0m \u001b[0;31m# syntax\u001b[0m\u001b[0;34m\u001b[0m\u001b[0;34m\u001b[0m\u001b[0;34m\u001b[0m\u001b[0m\n\u001b[0;32m----> 2\u001b[0;31m \u001b[0;34m@\u001b[0m\u001b[0mdecorator\u001b[0m\u001b[0;34m\u001b[0m\u001b[0;34m\u001b[0m\u001b[0m\n\u001b[0m\u001b[1;32m      3\u001b[0m \u001b[0;32mdef\u001b[0m \u001b[0mfunctions\u001b[0m\u001b[0;34m(\u001b[0m\u001b[0marg\u001b[0m\u001b[0;34m)\u001b[0m\u001b[0;34m:\u001b[0m\u001b[0;34m\u001b[0m\u001b[0;34m\u001b[0m\u001b[0m\n\u001b[1;32m      4\u001b[0m     \u001b[0;32mreturn\u001b[0m \u001b[0;34m\"value\"\u001b[0m\u001b[0;34m\u001b[0m\u001b[0;34m\u001b[0m\u001b[0m\n",
            "\u001b[0;31mNameError\u001b[0m: name 'decorator' is not defined"
          ]
        }
      ]
    },
    {
      "cell_type": "code",
      "metadata": {
        "colab": {
          "base_uri": "https://localhost:8080/",
          "height": 249
        },
        "id": "5T85fcLH8rT2",
        "outputId": "17503b5e-401c-4ae5-8191-ec703dfd81b5"
      },
      "source": [
        "def function(arg):\n",
        "    return \"value\"\n",
        "function = decorator(function) # this passes the function to the decorator, and reassigns it to the functions"
      ],
      "execution_count": 55,
      "outputs": [
        {
          "output_type": "error",
          "ename": "NameError",
          "evalue": "ignored",
          "traceback": [
            "\u001b[0;31m---------------------------------------------------------------------------\u001b[0m",
            "\u001b[0;31mNameError\u001b[0m                                 Traceback (most recent call last)",
            "\u001b[0;32m<ipython-input-55-628d01641d59>\u001b[0m in \u001b[0;36m<module>\u001b[0;34m()\u001b[0m\n\u001b[1;32m      1\u001b[0m \u001b[0;32mdef\u001b[0m \u001b[0mfunction\u001b[0m\u001b[0;34m(\u001b[0m\u001b[0marg\u001b[0m\u001b[0;34m)\u001b[0m\u001b[0;34m:\u001b[0m\u001b[0;34m\u001b[0m\u001b[0;34m\u001b[0m\u001b[0m\n\u001b[1;32m      2\u001b[0m     \u001b[0;32mreturn\u001b[0m \u001b[0;34m\"value\"\u001b[0m\u001b[0;34m\u001b[0m\u001b[0;34m\u001b[0m\u001b[0m\n\u001b[0;32m----> 3\u001b[0;31m \u001b[0mfunction\u001b[0m \u001b[0;34m=\u001b[0m \u001b[0mdecorator\u001b[0m\u001b[0;34m(\u001b[0m\u001b[0mfunction\u001b[0m\u001b[0;34m)\u001b[0m \u001b[0;31m# this passes the function to the decorator, and reassigns it to the functions\u001b[0m\u001b[0;34m\u001b[0m\u001b[0;34m\u001b[0m\u001b[0m\n\u001b[0m",
            "\u001b[0;31mNameError\u001b[0m: name 'decorator' is not defined"
          ]
        }
      ]
    },
    {
      "cell_type": "code",
      "metadata": {
        "id": "cafYdE3183ey"
      },
      "source": [
        "def repeater(old_function):\n",
        "    def new_function(*args, **kwds): # See learnpython.org/en/Multiple%20Function%20Arguments for how *args and **kwds works\n",
        "        old_function(*args, **kwds) # we run the old function\n",
        "        old_function(*args, **kwds) # we do it twice\n",
        "    return new_function # we have to return the new_function, or it wouldn't reassign it to the value"
      ],
      "execution_count": 56,
      "outputs": []
    },
    {
      "cell_type": "code",
      "metadata": {
        "colab": {
          "base_uri": "https://localhost:8080/"
        },
        "id": "9ty4HkAG88QV",
        "outputId": "8325a6af-d072-4429-84ce-6d5ef2b16915"
      },
      "source": [
        ">>> @repeater\n",
        "def multiply(num1, num2):\n",
        "    print(num1 * num2)\n",
        "\n",
        ">>> multiply(2, 3)\n",
        "6\n",
        "6"
      ],
      "execution_count": 58,
      "outputs": [
        {
          "output_type": "stream",
          "text": [
            "6\n",
            "6\n"
          ],
          "name": "stdout"
        },
        {
          "output_type": "execute_result",
          "data": {
            "text/plain": [
              "6"
            ]
          },
          "metadata": {
            "tags": []
          },
          "execution_count": 58
        }
      ]
    },
    {
      "cell_type": "code",
      "metadata": {
        "id": "YvQFh7Sm9Fnb"
      },
      "source": [
        "def double_out(old_function):\n",
        "    def new_function(*args, **kwds):\n",
        "        return 2 * old_function(*args, **kwds) # modify the return value\n",
        "    return new_function"
      ],
      "execution_count": 59,
      "outputs": []
    },
    {
      "cell_type": "code",
      "metadata": {
        "id": "co0yRPQU9SlZ"
      },
      "source": [
        "def double_Ii(old_function):\n",
        "    def new_function(arg): # only works if the old function has one argument\n",
        "        return old_function(arg * 2) # modify the argument passed\n",
        "    return new_function"
      ],
      "execution_count": 60,
      "outputs": []
    },
    {
      "cell_type": "code",
      "metadata": {
        "id": "wiuEN0Js9WCv"
      },
      "source": [
        "def check(old_function):\n",
        "    def new_function(arg):\n",
        "        if arg < 0: raise (ValueError, \"Negative Argument\") # This causes an error, which is better than it doing the wrong thing\n",
        "        old_function(arg)\n",
        "    return new_function"
      ],
      "execution_count": 61,
      "outputs": []
    },
    {
      "cell_type": "code",
      "metadata": {
        "colab": {
          "base_uri": "https://localhost:8080/"
        },
        "id": "CGwgp5Cd9Zhi",
        "outputId": "255133ec-3710-446e-fe04-e547ba8d8d04"
      },
      "source": [
        "def multiply(multiplier):\n",
        "    def multiply_generator(old_function):\n",
        "        def new_function(*args, **kwds):\n",
        "            return multiplier * old_function(*args, **kwds)\n",
        "        return new_function\n",
        "    return multiply_generator # it returns the new generator\n",
        "\n",
        "# Usage\n",
        "@multiply(3) # multiply is not a generator, but multiply(3) is\n",
        "def return_num(num):\n",
        "    return num\n",
        "\n",
        "# Now return_num is decorated and reassigned into itself\n",
        "return_num(5) # should return 15"
      ],
      "execution_count": 62,
      "outputs": [
        {
          "output_type": "execute_result",
          "data": {
            "text/plain": [
              "15"
            ]
          },
          "metadata": {
            "tags": []
          },
          "execution_count": 62
        }
      ]
    },
    {
      "cell_type": "code",
      "metadata": {
        "colab": {
          "base_uri": "https://localhost:8080/"
        },
        "id": "1jSSWRuq9iXe",
        "outputId": "23d78e58-a256-40df-9bbd-d05fcae585b3"
      },
      "source": [
        "# Excercise\n",
        "\n",
        "def type_check(correct_type):\n",
        "    def check(old_function):\n",
        "        def new_function(arg):\n",
        "            if (isinstance(arg, correct_type)):\n",
        "                return old_function(arg)\n",
        "            else:\n",
        "                print(\"Bad Type\")\n",
        "        return new_function\n",
        "    return check\n",
        "\n",
        "@type_check(int)\n",
        "def times2(num):\n",
        "    return num*2\n",
        "\n",
        "print(times2(2))\n",
        "times2('Not A Number')\n",
        "\n",
        "@type_check(str)\n",
        "def first_letter(word):\n",
        "    return word[0]\n",
        "\n",
        "print(first_letter('Hello World'))\n",
        "first_letter(['Not', 'A', 'String'])"
      ],
      "execution_count": 64,
      "outputs": [
        {
          "output_type": "stream",
          "text": [
            "4\n",
            "Bad Type\n",
            "H\n",
            "Bad Type\n"
          ],
          "name": "stdout"
        }
      ]
    },
    {
      "cell_type": "markdown",
      "metadata": {
        "id": "ssH8FMbf-Cp0"
      },
      "source": [
        "# Map, Filter, Reduce"
      ]
    },
    {
      "cell_type": "markdown",
      "metadata": {
        "id": "SdWqTrao-TRJ"
      },
      "source": [
        "## Map"
      ]
    },
    {
      "cell_type": "code",
      "metadata": {
        "colab": {
          "base_uri": "https://localhost:8080/"
        },
        "id": "FRhPy6wb9-_R",
        "outputId": "e5d1a513-55e8-4e7d-a221-7ad02817497e"
      },
      "source": [
        "# loop structure\n",
        "my_pets = ['alfred', 'tabitha', 'william', 'arla']\n",
        "uppered_pets = []\n",
        "\n",
        "for pet in my_pets:\n",
        "    pet_ = pet.upper()\n",
        "    uppered_pets.append(pet_)\n",
        "\n",
        "print(uppered_pets)"
      ],
      "execution_count": 65,
      "outputs": [
        {
          "output_type": "stream",
          "text": [
            "['ALFRED', 'TABITHA', 'WILLIAM', 'ARLA']\n"
          ],
          "name": "stdout"
        }
      ]
    },
    {
      "cell_type": "code",
      "metadata": {
        "colab": {
          "base_uri": "https://localhost:8080/"
        },
        "id": "aAnlD9xg-ss3",
        "outputId": "8ae0b2e4-d17a-4014-e97c-1fb5a5d97890"
      },
      "source": [
        "# map\n",
        "my_pets = ['alfred', 'tabitha', 'william', 'arla']\n",
        "\n",
        "uppered_pets = list(map(str.upper, my_pets))\n",
        "\n",
        "print(uppered_pets)"
      ],
      "execution_count": 66,
      "outputs": [
        {
          "output_type": "stream",
          "text": [
            "['ALFRED', 'TABITHA', 'WILLIAM', 'ARLA']\n"
          ],
          "name": "stdout"
        }
      ]
    },
    {
      "cell_type": "code",
      "metadata": {
        "colab": {
          "base_uri": "https://localhost:8080/"
        },
        "id": "SVUAfxmG-yQs",
        "outputId": "6d2d62f2-cf2a-4e82-d628-bfdcde170e17"
      },
      "source": [
        "circle_areas = [3.56773, 5.57668, 4.00914, 56.24241, 9.01344, 32.00013]\n",
        "\n",
        "result = list(map(round, circle_areas, range(1,7)))\n",
        "\n",
        "print(result)"
      ],
      "execution_count": 67,
      "outputs": [
        {
          "output_type": "stream",
          "text": [
            "[3.6, 5.58, 4.009, 56.2424, 9.01344, 32.00013]\n"
          ],
          "name": "stdout"
        }
      ]
    },
    {
      "cell_type": "code",
      "metadata": {
        "colab": {
          "base_uri": "https://localhost:8080/"
        },
        "id": "n1YzVOTD_OAk",
        "outputId": "185bacff-1599-4ae8-c69d-770f9154c40f"
      },
      "source": [
        "circle_areas = [3.56773, 5.57668, 4.00914, 56.24241, 9.01344, 32.00013]\n",
        "\n",
        "result = list(map(round, circle_areas, range(1,3)))\n",
        "\n",
        "print(result)"
      ],
      "execution_count": 68,
      "outputs": [
        {
          "output_type": "stream",
          "text": [
            "[3.6, 5.58]\n"
          ],
          "name": "stdout"
        }
      ]
    },
    {
      "cell_type": "code",
      "metadata": {
        "colab": {
          "base_uri": "https://localhost:8080/"
        },
        "id": "KvU2EDoq_yC6",
        "outputId": "9ce72cd8-6f2a-4a02-c525-f221eceddb19"
      },
      "source": [
        "my_strings = ['a', 'b', 'c', 'd', 'e']\n",
        "my_numbers = [1, 2, 3, 4, 5]\n",
        "\n",
        "results = list(zip(my_strings, my_numbers))\n",
        "\n",
        "print(results)"
      ],
      "execution_count": 72,
      "outputs": [
        {
          "output_type": "stream",
          "text": [
            "[('a', 1), ('b', 2), ('c', 3), ('d', 4), ('e', 5)]\n"
          ],
          "name": "stdout"
        }
      ]
    },
    {
      "cell_type": "code",
      "metadata": {
        "colab": {
          "base_uri": "https://localhost:8080/"
        },
        "id": "6uY_wCTq__X-",
        "outputId": "9dfe7187-bd67-4a21-e177-25f71c89235a"
      },
      "source": [
        "my_strings = ['a', 'b', 'c', 'd', 'e']\n",
        "my_numbers = [1, 2, 3, 4, 5]\n",
        "\n",
        "results = list(map(lambda x, y: (x, y), my_strings, my_numbers))\n",
        "\n",
        "print(results)"
      ],
      "execution_count": 73,
      "outputs": [
        {
          "output_type": "stream",
          "text": [
            "[('a', 1), ('b', 2), ('c', 3), ('d', 4), ('e', 5)]\n"
          ],
          "name": "stdout"
        }
      ]
    },
    {
      "cell_type": "markdown",
      "metadata": {
        "id": "V6IRAOwFAZ-A"
      },
      "source": [
        "## Filter"
      ]
    },
    {
      "cell_type": "markdown",
      "metadata": {
        "id": "dAw_2XljAZt2"
      },
      "source": [
        ""
      ]
    },
    {
      "cell_type": "code",
      "metadata": {
        "colab": {
          "base_uri": "https://localhost:8080/"
        },
        "id": "Vn8nhqCgAMpe",
        "outputId": "256575d5-983b-40f7-d2e0-dd918cd437f6"
      },
      "source": [
        "scores = [66, 90, 68, 59, 76, 60, 88, 74, 81, 65]\n",
        "\n",
        "def is_A_student(score):\n",
        "    return score > 75\n",
        "\n",
        "over_75 = list(filter(is_A_student, scores))\n",
        "\n",
        "print(over_75)"
      ],
      "execution_count": 74,
      "outputs": [
        {
          "output_type": "stream",
          "text": [
            "[90, 76, 88, 81]\n"
          ],
          "name": "stdout"
        }
      ]
    },
    {
      "cell_type": "code",
      "metadata": {
        "colab": {
          "base_uri": "https://localhost:8080/"
        },
        "id": "aU5vP50DAu6D",
        "outputId": "c6290964-4caf-4155-e9a1-1fcbdb8c0b1d"
      },
      "source": [
        "dromes = (\"demigod\", \"rewire\", \"madam\", \"freer\", \"anutforajaroftuna\", \"kiosk\")\n",
        "\n",
        "palindromes = list(filter(lambda word: word == word[::-1], dromes))\n",
        "\n",
        "print(palindromes)"
      ],
      "execution_count": 75,
      "outputs": [
        {
          "output_type": "stream",
          "text": [
            "['madam', 'anutforajaroftuna']\n"
          ],
          "name": "stdout"
        }
      ]
    },
    {
      "cell_type": "markdown",
      "metadata": {
        "id": "ZSLVmUvLBGi4"
      },
      "source": [
        "## Reduce"
      ]
    },
    {
      "cell_type": "code",
      "metadata": {
        "colab": {
          "base_uri": "https://localhost:8080/"
        },
        "id": "2q-LSWPQBC90",
        "outputId": "b11e46be-2b2d-4c78-8619-5065e5cd44d7"
      },
      "source": [
        "from functools import reduce\n",
        "\n",
        "numbers = [3, 4, 6, 9, 34, 12]\n",
        "\n",
        "def custom_sum(first, second):\n",
        "    return first + second\n",
        "\n",
        "result = reduce(custom_sum, numbers)\n",
        "print(result)"
      ],
      "execution_count": 77,
      "outputs": [
        {
          "output_type": "stream",
          "text": [
            "68\n"
          ],
          "name": "stdout"
        }
      ]
    },
    {
      "cell_type": "code",
      "metadata": {
        "colab": {
          "base_uri": "https://localhost:8080/"
        },
        "id": "l8o8Y47rBa-S",
        "outputId": "1fac2eae-ba2e-4b14-ce3f-964d3754c509"
      },
      "source": [
        "from functools import reduce\n",
        "\n",
        "numbers = [3, 4, 6, 9, 34, 12]\n",
        "\n",
        "def custom_sum(first, second):\n",
        "    return first + second\n",
        "\n",
        "result = reduce(custom_sum, numbers, 10)\n",
        "print(result)"
      ],
      "execution_count": 78,
      "outputs": [
        {
          "output_type": "stream",
          "text": [
            "78\n"
          ],
          "name": "stdout"
        }
      ]
    },
    {
      "cell_type": "markdown",
      "metadata": {
        "id": "L_ldgFIMBz5K"
      },
      "source": [
        "## Exercise"
      ]
    },
    {
      "cell_type": "code",
      "metadata": {
        "colab": {
          "base_uri": "https://localhost:8080/"
        },
        "id": "K2nXuPgpBuUm",
        "outputId": "440ab976-af70-4019-84e5-78ae6a7712fb"
      },
      "source": [
        "from functools import reduce \n",
        "\n",
        "# Use map to print the square of each numbers rounded\n",
        "# to two decimal places\n",
        "my_floats = [4.35, 6.09, 3.25, 9.77, 2.16, 8.88, 4.59]\n",
        "\n",
        "# Use filter to print only the names that are less than \n",
        "# or equal to seven letters\n",
        "my_names = [\"olumide\", \"akinremi\", \"josiah\", \"temidayo\", \"omoseun\"]\n",
        "\n",
        "# Use reduce to print the product of these numbers\n",
        "my_numbers = [4, 6, 9, 23, 5]\n",
        "\n",
        "# Fix all three respectively.\n",
        "map_result = list(map(lambda x: round(x ** 2, 3), my_floats))\n",
        "filter_result = list(filter(lambda name: len(name) <= 7, my_names))\n",
        "reduce_result = reduce(lambda num1, num2: num1 * num2, my_numbers)\n",
        "\n",
        "print(map_result)\n",
        "print(filter_result)\n",
        "print(reduce_result)"
      ],
      "execution_count": 79,
      "outputs": [
        {
          "output_type": "stream",
          "text": [
            "[18.922, 37.088, 10.562, 95.453, 4.666, 78.854, 21.068]\n",
            "['olumide', 'josiah', 'omoseun']\n",
            "24840\n"
          ],
          "name": "stdout"
        }
      ]
    },
    {
      "cell_type": "code",
      "metadata": {
        "id": "xWTN6cxhCJlW"
      },
      "source": [
        ""
      ],
      "execution_count": null,
      "outputs": []
    }
  ]
}